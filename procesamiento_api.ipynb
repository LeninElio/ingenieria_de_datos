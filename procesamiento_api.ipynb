{
 "cells": [
  {
   "cell_type": "code",
   "execution_count": 299,
   "outputs": [],
   "source": [
    "import pandas as pd\n",
    "import json\n",
    "import requests\n",
    "from concurrent.futures import ThreadPoolExecutor"
   ],
   "metadata": {
    "collapsed": false,
    "ExecuteTime": {
     "start_time": "2023-04-28T16:43:23.988562Z",
     "end_time": "2023-04-28T16:43:24.010371Z"
    }
   }
  },
  {
   "cell_type": "code",
   "execution_count": 300,
   "outputs": [],
   "source": [
    "url = \"http://35.245.98.49/webservice/rest/server.php\"\n",
    "session = requests.Session()\n",
    "\n",
    "def creacion_concurrente(params):\n",
    "    response = session.post(f\"{url}\", params=params).json()\n",
    "    return response"
   ],
   "metadata": {
    "collapsed": false,
    "ExecuteTime": {
     "start_time": "2023-04-28T16:43:25.007886Z",
     "end_time": "2023-04-28T16:43:25.028142Z"
    }
   }
  },
  {
   "cell_type": "code",
   "execution_count": 301,
   "metadata": {
    "collapsed": true,
    "ExecuteTime": {
     "start_time": "2023-04-28T16:43:26.201057Z",
     "end_time": "2023-04-28T16:43:27.039920Z"
    }
   },
   "outputs": [],
   "source": [
    "list_params = [{'wstoken': '7b2321b83ecfef7fe01aa0cf5958ebc2', 'moodlewsrestformat': 'json', 'wsfunction': 'core_enrol_get_enrolled_users', 'courseid': 2}, {'wstoken': '7b2321b83ecfef7fe01aa0cf5958ebc2', 'moodlewsrestformat': 'json', 'wsfunction': 'core_enrol_get_enrolled_users', 'courseid': 3}, {'wstoken': '7b2321b83ecfef7fe01aa0cf5958ebc2', 'moodlewsrestformat': 'json', 'wsfunction': 'core_enrol_get_enrolled_users', 'courseid': 4}]\n",
    "\n",
    "with ThreadPoolExecutor() as executor:\n",
    "    responses = list(executor.map(creacion_concurrente, list_params))\n",
    "\n",
    "json_data = json.dumps(responses)"
   ]
  },
  {
   "cell_type": "code",
   "execution_count": null,
   "outputs": [],
   "source": [
    "json_data"
   ],
   "metadata": {
    "collapsed": false,
    "ExecuteTime": {
     "start_time": "2023-04-28T16:43:29.105565Z",
     "end_time": "2023-04-28T16:43:29.117039Z"
    }
   }
  },
  {
   "cell_type": "code",
   "execution_count": 303,
   "outputs": [],
   "source": [
    "df = pd.read_json(json_data)"
   ],
   "metadata": {
    "collapsed": false,
    "ExecuteTime": {
     "start_time": "2023-04-28T16:43:33.477070Z",
     "end_time": "2023-04-28T16:43:33.491765Z"
    }
   }
  },
  {
   "cell_type": "code",
   "execution_count": 304,
   "outputs": [
    {
     "data": {
      "text/plain": "                                                  0   \\\n0  {'id': 46, 'username': '052.0402.249', 'firstn...   \n1  {'id': 46, 'username': '052.0402.249', 'firstn...   \n2  {'id': 437, 'username': '113.1004.053', 'first...   \n\n                                                  1   \\\n0  {'id': 115, 'username': '082.0103.296', 'first...   \n1  {'id': 179, 'username': '092.0103.264', 'first...   \n2  {'id': 1390, 'username': '151.1004.863', 'firs...   \n\n                                                  2   \\\n0  {'id': 215, 'username': '101.0103.343', 'first...   \n1  {'id': 214, 'username': '101.0103.342', 'first...   \n2  {'id': 1921, 'username': '161.1004.111', 'firs...   \n\n                                                  3   \\\n0  {'id': 931, 'username': '141.0103.400', 'first...   \n1  {'id': 217, 'username': '101.0103.358', 'first...   \n2  {'id': 1929, 'username': '161.1004.127', 'firs...   \n\n                                                  4   \\\n0  {'id': 1146, 'username': '151.0103.179', 'firs...   \n1  {'id': 218, 'username': '101.0103.364', 'first...   \n2  {'id': 2685, 'username': '171.1006.005', 'firs...   \n\n                                                  5   \\\n0  {'id': 1150, 'username': '151.0103.192', 'firs...   \n1  {'id': 272, 'username': '102.0103.315', 'first...   \n2  {'id': 2689, 'username': '171.1006.009', 'firs...   \n\n                                                  6   \\\n0  {'id': 1233, 'username': '151.0403.046', 'firs...   \n1  {'id': 442, 'username': '121.0103.357', 'first...   \n2  {'id': 2694, 'username': '171.1006.017', 'firs...   \n\n                                                  7   \\\n0  {'id': 6492, 'username': '101.0103.354', 'firs...   \n1  {'id': 509, 'username': '122.0103.328', 'first...   \n2  {'id': 2696, 'username': '171.1006.020', 'firs...   \n\n                                                  8   \\\n0                                               None   \n1  {'id': 518, 'username': '122.0304.294', 'first...   \n2  {'id': 2698, 'username': '171.1006.024', 'firs...   \n\n                                                  9   ...  \\\n0                                               None  ...   \n1  {'id': 594, 'username': '131.0103.419', 'first...  ...   \n2  {'id': 2699, 'username': '171.1006.025', 'firs...  ...   \n\n                                                  21  \\\n0                                               None   \n1  {'id': 1679, 'username': '161.0103.230', 'firs...   \n2  {'id': 2729, 'username': '171.1006.057', 'firs...   \n\n                                                  22  \\\n0                                               None   \n1  {'id': 1680, 'username': '161.0103.231', 'firs...   \n2  {'id': 6545, 'username': '171.1006.011', 'firs...   \n\n                                                  23  \\\n0                                               None   \n1  {'id': 1681, 'username': '161.0103.233', 'firs...   \n2                                               None   \n\n                                                  24  \\\n0                                               None   \n1  {'id': 1682, 'username': '161.0103.778', 'firs...   \n2                                               None   \n\n                                                  25  \\\n0                                               None   \n1  {'id': 1683, 'username': '161.0103.779', 'firs...   \n2                                               None   \n\n                                                  26  \\\n0                                               None   \n1  {'id': 2322, 'username': '171.0105.001', 'firs...   \n2                                               None   \n\n                                                  27  \\\n0                                               None   \n1  {'id': 2329, 'username': '171.0105.015', 'firs...   \n2                                               None   \n\n                                                  28  \\\n0                                               None   \n1  {'id': 2330, 'username': '171.0105.016', 'firs...   \n2                                               None   \n\n                                                  29  \\\n0                                               None   \n1  {'id': 6485, 'username': '151.0103.187', 'firs...   \n2                                               None   \n\n                                                  30  \n0                                               None  \n1  {'id': 6509, 'username': '132.0103.264', 'firs...  \n2                                               None  \n\n[3 rows x 31 columns]",
      "text/html": "<div>\n<style scoped>\n    .dataframe tbody tr th:only-of-type {\n        vertical-align: middle;\n    }\n\n    .dataframe tbody tr th {\n        vertical-align: top;\n    }\n\n    .dataframe thead th {\n        text-align: right;\n    }\n</style>\n<table border=\"1\" class=\"dataframe\">\n  <thead>\n    <tr style=\"text-align: right;\">\n      <th></th>\n      <th>0</th>\n      <th>1</th>\n      <th>2</th>\n      <th>3</th>\n      <th>4</th>\n      <th>5</th>\n      <th>6</th>\n      <th>7</th>\n      <th>8</th>\n      <th>9</th>\n      <th>...</th>\n      <th>21</th>\n      <th>22</th>\n      <th>23</th>\n      <th>24</th>\n      <th>25</th>\n      <th>26</th>\n      <th>27</th>\n      <th>28</th>\n      <th>29</th>\n      <th>30</th>\n    </tr>\n  </thead>\n  <tbody>\n    <tr>\n      <th>0</th>\n      <td>{'id': 46, 'username': '052.0402.249', 'firstn...</td>\n      <td>{'id': 115, 'username': '082.0103.296', 'first...</td>\n      <td>{'id': 215, 'username': '101.0103.343', 'first...</td>\n      <td>{'id': 931, 'username': '141.0103.400', 'first...</td>\n      <td>{'id': 1146, 'username': '151.0103.179', 'firs...</td>\n      <td>{'id': 1150, 'username': '151.0103.192', 'firs...</td>\n      <td>{'id': 1233, 'username': '151.0403.046', 'firs...</td>\n      <td>{'id': 6492, 'username': '101.0103.354', 'firs...</td>\n      <td>None</td>\n      <td>None</td>\n      <td>...</td>\n      <td>None</td>\n      <td>None</td>\n      <td>None</td>\n      <td>None</td>\n      <td>None</td>\n      <td>None</td>\n      <td>None</td>\n      <td>None</td>\n      <td>None</td>\n      <td>None</td>\n    </tr>\n    <tr>\n      <th>1</th>\n      <td>{'id': 46, 'username': '052.0402.249', 'firstn...</td>\n      <td>{'id': 179, 'username': '092.0103.264', 'first...</td>\n      <td>{'id': 214, 'username': '101.0103.342', 'first...</td>\n      <td>{'id': 217, 'username': '101.0103.358', 'first...</td>\n      <td>{'id': 218, 'username': '101.0103.364', 'first...</td>\n      <td>{'id': 272, 'username': '102.0103.315', 'first...</td>\n      <td>{'id': 442, 'username': '121.0103.357', 'first...</td>\n      <td>{'id': 509, 'username': '122.0103.328', 'first...</td>\n      <td>{'id': 518, 'username': '122.0304.294', 'first...</td>\n      <td>{'id': 594, 'username': '131.0103.419', 'first...</td>\n      <td>...</td>\n      <td>{'id': 1679, 'username': '161.0103.230', 'firs...</td>\n      <td>{'id': 1680, 'username': '161.0103.231', 'firs...</td>\n      <td>{'id': 1681, 'username': '161.0103.233', 'firs...</td>\n      <td>{'id': 1682, 'username': '161.0103.778', 'firs...</td>\n      <td>{'id': 1683, 'username': '161.0103.779', 'firs...</td>\n      <td>{'id': 2322, 'username': '171.0105.001', 'firs...</td>\n      <td>{'id': 2329, 'username': '171.0105.015', 'firs...</td>\n      <td>{'id': 2330, 'username': '171.0105.016', 'firs...</td>\n      <td>{'id': 6485, 'username': '151.0103.187', 'firs...</td>\n      <td>{'id': 6509, 'username': '132.0103.264', 'firs...</td>\n    </tr>\n    <tr>\n      <th>2</th>\n      <td>{'id': 437, 'username': '113.1004.053', 'first...</td>\n      <td>{'id': 1390, 'username': '151.1004.863', 'firs...</td>\n      <td>{'id': 1921, 'username': '161.1004.111', 'firs...</td>\n      <td>{'id': 1929, 'username': '161.1004.127', 'firs...</td>\n      <td>{'id': 2685, 'username': '171.1006.005', 'firs...</td>\n      <td>{'id': 2689, 'username': '171.1006.009', 'firs...</td>\n      <td>{'id': 2694, 'username': '171.1006.017', 'firs...</td>\n      <td>{'id': 2696, 'username': '171.1006.020', 'firs...</td>\n      <td>{'id': 2698, 'username': '171.1006.024', 'firs...</td>\n      <td>{'id': 2699, 'username': '171.1006.025', 'firs...</td>\n      <td>...</td>\n      <td>{'id': 2729, 'username': '171.1006.057', 'firs...</td>\n      <td>{'id': 6545, 'username': '171.1006.011', 'firs...</td>\n      <td>None</td>\n      <td>None</td>\n      <td>None</td>\n      <td>None</td>\n      <td>None</td>\n      <td>None</td>\n      <td>None</td>\n      <td>None</td>\n    </tr>\n  </tbody>\n</table>\n<p>3 rows × 31 columns</p>\n</div>"
     },
     "execution_count": 304,
     "metadata": {},
     "output_type": "execute_result"
    }
   ],
   "source": [
    "df"
   ],
   "metadata": {
    "collapsed": false,
    "ExecuteTime": {
     "start_time": "2023-04-28T16:43:34.732373Z",
     "end_time": "2023-04-28T16:43:34.815447Z"
    }
   }
  },
  {
   "cell_type": "code",
   "execution_count": 326,
   "outputs": [],
   "source": [
    "def obtener_id(dataframe):\n",
    "    obtenidos = []\n",
    "    for col in dataframe.columns:\n",
    "        for row in dataframe[col]:\n",
    "            if row is not None and 'id' in row:\n",
    "                cursos = [curso['id'] for curso in row['enrolledcourses'] if 'id' in curso] if row['enrolledcourses'] is not None else []\n",
    "                obtenidos.append([(curso, row['id']) for curso in cursos])\n",
    "\n",
    "    obtenido = [ids for lista in obtenidos for ids in lista]\n",
    "    daf = pd.DataFrame(obtenido, columns=['curso', 'id'])\n",
    "    return daf\n",
    "\n",
    "daf = obtener_id(df)"
   ],
   "metadata": {
    "collapsed": false,
    "ExecuteTime": {
     "start_time": "2023-04-28T20:57:55.730447Z",
     "end_time": "2023-04-28T20:57:55.748441Z"
    }
   }
  },
  {
   "cell_type": "code",
   "execution_count": 327,
   "outputs": [
    {
     "data": {
      "text/plain": "     curso    id\n0      228    46\n1      224    46\n2      214    46\n3        6    46\n4        2    46\n..     ...   ...\n229   1242  6485\n230    230  6485\n231      3  6485\n232    222  6509\n233      3  6509\n\n[234 rows x 2 columns]",
      "text/html": "<div>\n<style scoped>\n    .dataframe tbody tr th:only-of-type {\n        vertical-align: middle;\n    }\n\n    .dataframe tbody tr th {\n        vertical-align: top;\n    }\n\n    .dataframe thead th {\n        text-align: right;\n    }\n</style>\n<table border=\"1\" class=\"dataframe\">\n  <thead>\n    <tr style=\"text-align: right;\">\n      <th></th>\n      <th>curso</th>\n      <th>id</th>\n    </tr>\n  </thead>\n  <tbody>\n    <tr>\n      <th>0</th>\n      <td>228</td>\n      <td>46</td>\n    </tr>\n    <tr>\n      <th>1</th>\n      <td>224</td>\n      <td>46</td>\n    </tr>\n    <tr>\n      <th>2</th>\n      <td>214</td>\n      <td>46</td>\n    </tr>\n    <tr>\n      <th>3</th>\n      <td>6</td>\n      <td>46</td>\n    </tr>\n    <tr>\n      <th>4</th>\n      <td>2</td>\n      <td>46</td>\n    </tr>\n    <tr>\n      <th>...</th>\n      <td>...</td>\n      <td>...</td>\n    </tr>\n    <tr>\n      <th>229</th>\n      <td>1242</td>\n      <td>6485</td>\n    </tr>\n    <tr>\n      <th>230</th>\n      <td>230</td>\n      <td>6485</td>\n    </tr>\n    <tr>\n      <th>231</th>\n      <td>3</td>\n      <td>6485</td>\n    </tr>\n    <tr>\n      <th>232</th>\n      <td>222</td>\n      <td>6509</td>\n    </tr>\n    <tr>\n      <th>233</th>\n      <td>3</td>\n      <td>6509</td>\n    </tr>\n  </tbody>\n</table>\n<p>234 rows × 2 columns</p>\n</div>"
     },
     "execution_count": 327,
     "metadata": {},
     "output_type": "execute_result"
    }
   ],
   "source": [
    "daf"
   ],
   "metadata": {
    "collapsed": false,
    "ExecuteTime": {
     "start_time": "2023-04-28T20:57:58.794409Z",
     "end_time": "2023-04-28T20:57:58.818685Z"
    }
   }
  },
  {
   "cell_type": "code",
   "execution_count": 329,
   "outputs": [
    {
     "data": {
      "text/plain": "0       228\n1       224\n2       214\n3         6\n4         2\n       ... \n229    1242\n230     230\n231       3\n232     222\n233       3\nName: curso, Length: 234, dtype: int64"
     },
     "execution_count": 329,
     "metadata": {},
     "output_type": "execute_result"
    }
   ],
   "source": [],
   "metadata": {
    "collapsed": false,
    "ExecuteTime": {
     "start_time": "2023-04-28T20:58:43.702332Z",
     "end_time": "2023-04-28T20:58:43.716964Z"
    }
   }
  },
  {
   "cell_type": "code",
   "execution_count": 294,
   "outputs": [
    {
     "data": {
      "text/plain": "                                                col1  \\\n0  {'id': 1, 'cursos': [{'id': 22}, {'nombre': 'n...   \n1  {'id': 16, 'cursos': [{'id': 21}, {'nombre': '...   \n\n                                                col2  \\\n0  {'id': 4, 'cursos': [{'id': 23}, {'nombre': 'n...   \n1  {'id': 19, 'cursos': [{'id': 27}, {'nombre': '...   \n\n                                                col3  \n0  {'id': 7, 'cursos': [{'id': 25}, {'nombre': 'n...  \n1  {'id': 22, 'cursos': [{'id': 29}, {'nombre': '...  ",
      "text/html": "<div>\n<style scoped>\n    .dataframe tbody tr th:only-of-type {\n        vertical-align: middle;\n    }\n\n    .dataframe tbody tr th {\n        vertical-align: top;\n    }\n\n    .dataframe thead th {\n        text-align: right;\n    }\n</style>\n<table border=\"1\" class=\"dataframe\">\n  <thead>\n    <tr style=\"text-align: right;\">\n      <th></th>\n      <th>col1</th>\n      <th>col2</th>\n      <th>col3</th>\n    </tr>\n  </thead>\n  <tbody>\n    <tr>\n      <th>0</th>\n      <td>{'id': 1, 'cursos': [{'id': 22}, {'nombre': 'n...</td>\n      <td>{'id': 4, 'cursos': [{'id': 23}, {'nombre': 'n...</td>\n      <td>{'id': 7, 'cursos': [{'id': 25}, {'nombre': 'n...</td>\n    </tr>\n    <tr>\n      <th>1</th>\n      <td>{'id': 16, 'cursos': [{'id': 21}, {'nombre': '...</td>\n      <td>{'id': 19, 'cursos': [{'id': 27}, {'nombre': '...</td>\n      <td>{'id': 22, 'cursos': [{'id': 29}, {'nombre': '...</td>\n    </tr>\n  </tbody>\n</table>\n</div>"
     },
     "execution_count": 294,
     "metadata": {},
     "output_type": "execute_result"
    }
   ],
   "source": [
    "data = {'col1': [{'id': 1, 'cursos': [{'id': 22}, {'nombre': 'nom1'}], 'credit': 3}, {'id': 16, 'cursos': [{'id': 21}, {'nombre': 'nom1'}], 'credit': 18}],\n",
    "         'col2': [{'id': 4, 'cursos': [{'id': 23}, {'nombre': 'nom1'}, {'id': 27}, {'nombre': 'nom1'}], 'credit': 6}, {'id': 19, 'cursos': [{'id': 27}, {'nombre': 'nom1'}], 'credit': 21}],\n",
    "         'col3': [{'id': 7, 'cursos': [{'id': 25}, {'nombre': 'nom1'}, {'id': 23}, {'nombre': 'nom1'}], 'credit': 9}, {'id': 22, 'cursos': [{'id': 29}, {'nombre': 'nom1'}], 'credit': 24}]}\n",
    "\n",
    "df = pd.DataFrame(data)\n",
    "\n",
    "df"
   ],
   "metadata": {
    "collapsed": false,
    "ExecuteTime": {
     "start_time": "2023-04-28T16:39:55.690623Z",
     "end_time": "2023-04-28T16:39:55.710146Z"
    }
   }
  },
  {
   "cell_type": "code",
   "execution_count": 298,
   "outputs": [
    {
     "name": "stdout",
     "output_type": "stream",
     "text": [
      "1, [22]\n",
      "16, [21]\n",
      "4, [23, 27]\n",
      "19, [27]\n",
      "7, [25, 23]\n",
      "22, [29]\n"
     ]
    }
   ],
   "source": [
    "for col in df.columns:\n",
    "    for row in df[col]:\n",
    "        cursos = [curso['id'] for curso in row['cursos'] if 'id' in curso]\n",
    "        print(f'{row[\"id\"]}, {cursos}')\n",
    "\n"
   ],
   "metadata": {
    "collapsed": false,
    "ExecuteTime": {
     "start_time": "2023-04-28T16:42:46.549010Z",
     "end_time": "2023-04-28T16:42:46.555748Z"
    }
   }
  }
 ],
 "metadata": {
  "kernelspec": {
   "display_name": "Python 3",
   "language": "python",
   "name": "python3"
  },
  "language_info": {
   "codemirror_mode": {
    "name": "ipython",
    "version": 2
   },
   "file_extension": ".py",
   "mimetype": "text/x-python",
   "name": "python",
   "nbconvert_exporter": "python",
   "pygments_lexer": "ipython2",
   "version": "2.7.6"
  }
 },
 "nbformat": 4,
 "nbformat_minor": 0
}
