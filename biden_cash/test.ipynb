{
 "cells": [
  {
   "cell_type": "markdown",
   "source": [
    "# Preprocesamiento de datos"
   ],
   "metadata": {
    "collapsed": false
   }
  },
  {
   "cell_type": "markdown",
   "source": [
    "### Intento encontrar la codificacion del archivo"
   ],
   "metadata": {
    "collapsed": false
   }
  },
  {
   "cell_type": "code",
   "execution_count": null,
   "outputs": [],
   "source": [
    "import chardet\n",
    "\n",
    "# num_bytes = 10000\n",
    "with open('biden_cash.txt', 'rb') as f:\n",
    "    # como el archivo es demasiado grande se puede limitar el tamaño de lectura\n",
    "    # rawdata = f.read(num_bytes)\n",
    "    rawdata = f.read()\n",
    "    result = chardet.detect(rawdata)\n",
    "    encoding = result['encoding']\n",
    "\n",
    "print(f'La codificación de caracteres detectada es: {encoding}')"
   ],
   "metadata": {
    "collapsed": false
   }
  },
  {
   "cell_type": "markdown",
   "source": [
    "### Convirtiendo la codificacion MacRoman a UTF-8"
   ],
   "metadata": {
    "collapsed": false
   }
  },
  {
   "cell_type": "code",
   "execution_count": null,
   "outputs": [],
   "source": [
    "# Intentar cambiar la codificación de esta manera me genero más problemas, no recomendable\n",
    "with open('biden_cash.txt', 'r', encoding='macroman') as input_file:\n",
    "    text = input_file.read()\n",
    "\n",
    "with open('biden_cash_enc.txt', 'w', encoding='utf-8') as output_file:\n",
    "    output_file.write(text)"
   ],
   "metadata": {
    "collapsed": false
   }
  },
  {
   "cell_type": "code",
   "execution_count": null,
   "outputs": [],
   "source": [
    "# Intento de decodificación\n",
    "encodings = ['ascii', 'big5', 'big5hkscs', 'cp037', 'cp424', 'cp437', 'cp500', 'cp720', 'cp737', 'cp775', 'cp850', 'cp852', 'cp855', 'cp856', 'cp857', 'iso8859_1', 'iso8859_2', 'iso8859_3', 'iso8859_4', 'iso8859_5', 'iso8859_6', 'iso8859_7', 'iso8859_8', 'iso8859_9', 'iso8859_10', 'iso8859_13', 'iso8859_14', 'iso8859_15', 'iso8859_16']\n",
    "\n",
    "with open('texto.txt', 'rb') as f:\n",
    "    text = f.read()\n",
    "\n",
    "for num, encoding in enumerate(encodings):\n",
    "    try:\n",
    "        decoded_text = text.decode(encoding)\n",
    "        print(f\"{num} Decodificando con {encoding}: {decoded_text}\")\n",
    "    except UnicodeDecodeError:\n",
    "        print(f\"{num} Fallo la codification con {encoding}\")"
   ],
   "metadata": {
    "collapsed": false
   }
  },
  {
   "cell_type": "markdown",
   "source": [],
   "metadata": {
    "collapsed": false
   }
  },
  {
   "cell_type": "markdown",
   "source": [
    "### Ahora si a preprocesar"
   ],
   "metadata": {
    "collapsed": false
   }
  },
  {
   "cell_type": "code",
   "execution_count": null,
   "outputs": [],
   "source": [
    "import csv\n",
    "\n",
    "csv.field_size_limit(10000000)\n",
    "input_file = open('biden_cash.txt', 'r', encoding='macroman')\n",
    "# considero que es mejora cambiar la codificación aquí\n",
    "output_file = open('biden_cash_clean.txt', 'w', encoding='utf-8')"
   ],
   "metadata": {
    "collapsed": false
   }
  },
  {
   "cell_type": "code",
   "execution_count": null,
   "outputs": [],
   "source": [
    "reader = csv.reader(input_file, delimiter='|')\n",
    "writer = csv.writer(output_file, delimiter='|')\n",
    "\n",
    "num_cols = 25  # Número de columnas esperado en cada fila\n",
    "for row in reader:\n",
    "    if len(row) < num_cols:\n",
    "        # Agregar valores faltantes\n",
    "        row.extend([''] * (num_cols - len(row)))\n",
    "    elif len(row) > num_cols:\n",
    "        # Eliminar columnas adicionales\n",
    "        row = row[:num_cols]\n",
    "    writer.writerow(row)\n",
    "\n",
    "input_file.close()\n",
    "output_file.close()"
   ],
   "metadata": {
    "collapsed": false
   }
  },
  {
   "cell_type": "markdown",
   "source": [
    "## Procesando los datos"
   ],
   "metadata": {
    "collapsed": false
   }
  },
  {
   "cell_type": "code",
   "execution_count": null,
   "metadata": {
    "collapsed": true
   },
   "outputs": [],
   "source": [
    "import pandas as pd\n",
    "\n",
    "df = pd.read_csv('biden_cash_clean.txt', sep='|', header=None, on_bad_lines='skip', dtype={0: str, 2: str, 3: str, 17: str, 18: str, 19: str, 20: str, 21: str, 22: str, 23: str})"
   ]
  },
  {
   "cell_type": "markdown",
   "source": [
    "#### Buscando caracteres raros"
   ],
   "metadata": {
    "collapsed": false
   }
  },
  {
   "cell_type": "code",
   "execution_count": null,
   "outputs": [],
   "source": [
    "# with open('sopa.txt', 'r', encoding='utf-8') as file:\n",
    "with open('biden_cash_clean.txt', 'r', encoding='utf-8') as file:\n",
    "    content = file.read()\n",
    "    unique_chars = set(content)\n",
    "    result = ''.join(unique_chars)"
   ],
   "metadata": {
    "collapsed": false
   }
  },
  {
   "cell_type": "code",
   "execution_count": null,
   "outputs": [],
   "source": [
    "result"
   ],
   "metadata": {
    "collapsed": false
   }
  },
  {
   "cell_type": "code",
   "execution_count": null,
   "outputs": [],
   "source": [
    "import re\n",
    "# result = re.sub(r'[a-zA-Z0-9\\u0080-\\u00FF]', '', result)\n",
    "# result = re.sub(r'[a-zA-Z0-9]', '', result)\n",
    "valores = r'[^\\w\\s\\x01-\\x20\\uf8ff\\\\/\\()\\,\\.\\[\\]\\-]'\n",
    "\n",
    "result = re.findall(valores, result)\n",
    "result = ''.join(result)"
   ],
   "metadata": {
    "collapsed": false
   }
  },
  {
   "cell_type": "code",
   "execution_count": null,
   "outputs": [],
   "source": [
    "result"
   ],
   "metadata": {
    "collapsed": false
   }
  },
  {
   "cell_type": "code",
   "execution_count": null,
   "outputs": [],
   "source": [
    "# result = result.replace(' ', '')\n",
    "# resultado = \"\"\"ˆïš?º¿§¶ªÅ“¥°Ï¹€®ž«Ž´Ã¯’£±œ‰…\\Î»`„³¦©¢²¼+¡¸¤†Â˜‹·Œ>”¨Šµ\"Ÿ‡‘¬\"\"\"\n",
    "# resultado\n",
    "\n"
   ],
   "metadata": {
    "collapsed": false
   }
  },
  {
   "cell_type": "code",
   "execution_count": null,
   "outputs": [],
   "source": [
    "regex = '[' + re.escape(result) + ']'"
   ],
   "metadata": {
    "collapsed": false
   }
  },
  {
   "cell_type": "code",
   "execution_count": null,
   "outputs": [],
   "source": [
    "reemplazo = {'√©': 'é', '√°': 'á', '√¥': 'ô', '¬†': ' ', '√¢': 'â', '√£': 'ã', '©ú': 'Ü', '©ñ': 'Ö', '©≠': 'í', 'Ё®': 'ó'}\n",
    "columnas = [3]\n",
    "\n",
    "for columna in columnas:\n",
    "    for c, v in reemplazo:\n",
    "        df[columna] = df[columna].str.replace(c, v)"
   ],
   "metadata": {
    "collapsed": false
   }
  },
  {
   "cell_type": "code",
   "execution_count": null,
   "outputs": [],
   "source": [
    "# matches = df[df[3].str.contains('Äò', na=False)]\n",
    "# matches = df[df[3].str.len() > 110]\n",
    "matches = df[df[3].str.contains(regex, na=False)]\n",
    "# matches = df[~df[3].str.contains('[a-zA-Z0-9]', na=True)]"
   ],
   "metadata": {
    "collapsed": false
   }
  },
  {
   "cell_type": "code",
   "execution_count": null,
   "outputs": [],
   "source": [
    "matches"
   ],
   "metadata": {
    "collapsed": false
   }
  },
  {
   "cell_type": "code",
   "execution_count": null,
   "outputs": [],
   "source": [
    "df"
   ],
   "metadata": {
    "collapsed": false
   }
  },
  {
   "cell_type": "code",
   "execution_count": null,
   "outputs": [],
   "source": [
    "diff = pd.merge(df, matches, how='outer', indicator=True)\n",
    "diff = diff[diff['_merge'] == 'left_only'].drop('_merge', axis=1)\n",
    "\n",
    "diff"
   ],
   "metadata": {
    "collapsed": false
   }
  },
  {
   "cell_type": "code",
   "execution_count": null,
   "outputs": [],
   "source": [
    "# import re\n",
    "#\n",
    "# text = '\\x14∏^ARÌèï\\x15ÒVƒÆË:‚åöt?%W∑≤™Öøî8ºü\\x0e(ÀyP§ÈÁ\\x0b√π≠êãáÚn¶\\\\6[p\\x0cªÕÅõ\\x13“5≥¥ìùT\\x16}G°ÏCxΩk ÑûD®€\\uf8ff÷K<ÜÔﬁó\\x1aO´Ã-ä\\x02à⁄›fo’\\x1e£a,E$|LZßvMwh\\x11±7œ≈‰d…\\xa0J\\x01]â)FòmÎ»H`bçS„BQ\\x1bs–©Ug\\'•¢∞!Är\\x03∂\\x08+cñí~∫\\x060éØqX\\x04\\x18†3&.ÍYÂ=Ç∆#u\\x07ô\\ti‹·\\x19ﬂŒ{z◊>ú¨É”N14—2\\nlµj\"\\x1fŸ‡æ9ë_*e/ÿÊI@‘¬'\n",
    "#\n",
    "# valores = '[^\\w\\s\\x01-\\x20\\uf8ff\\\\/\\()\\,\\.]+'\n",
    "#\n",
    "# coincidencia = re.findall(valores, text)\n",
    "# coincidencia = ''.join(coincidencia)\n",
    "# coincidencia"
   ],
   "metadata": {
    "collapsed": false
   }
  }
 ],
 "metadata": {
  "kernelspec": {
   "display_name": "Python 3",
   "language": "python",
   "name": "python3"
  },
  "language_info": {
   "codemirror_mode": {
    "name": "ipython",
    "version": 2
   },
   "file_extension": ".py",
   "mimetype": "text/x-python",
   "name": "python",
   "nbconvert_exporter": "python",
   "pygments_lexer": "ipython2",
   "version": "2.7.6"
  }
 },
 "nbformat": 4,
 "nbformat_minor": 0
}
