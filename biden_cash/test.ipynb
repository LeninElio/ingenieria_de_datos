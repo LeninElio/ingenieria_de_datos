{
 "cells": [
  {
   "cell_type": "markdown",
   "source": [
    "# Preprocesamiento de datos"
   ],
   "metadata": {
    "collapsed": false
   }
  },
  {
   "cell_type": "markdown",
   "source": [
    "### Intento encontrar la codificacion del archivo"
   ],
   "metadata": {
    "collapsed": false
   }
  },
  {
   "cell_type": "code",
   "execution_count": 23,
   "outputs": [
    {
     "name": "stdout",
     "output_type": "stream",
     "text": [
      "La codificación de caracteres detectada es: MacRoman\n"
     ]
    }
   ],
   "source": [
    "import chardet\n",
    "\n",
    "# num_bytes = 10000\n",
    "with open('biden_cash.txt', 'rb') as f:\n",
    "    # como el archivo es demasiado grande se puede limitar el tamaño de lectura\n",
    "    # rawdata = f.read(num_bytes)\n",
    "    rawdata = f.read()\n",
    "    result = chardet.detect(rawdata)\n",
    "    encoding = result['encoding']\n",
    "\n",
    "print(f'La codificación de caracteres detectada es: {encoding}')"
   ],
   "metadata": {
    "collapsed": false
   }
  },
  {
   "cell_type": "markdown",
   "source": [
    "### Convirtiendo la codificacion MacRoman a UTF-8"
   ],
   "metadata": {
    "collapsed": false
   }
  },
  {
   "cell_type": "code",
   "execution_count": 24,
   "outputs": [],
   "source": [
    "# Intentar cambiar la codificación de esta manera me genero más problemas, no recomendable\n",
    "with open('biden_cash.txt', 'r', encoding='macroman') as input_file:\n",
    "    text = input_file.read()\n",
    "\n",
    "with open('biden_cash_enc.txt', 'w', encoding='utf-8') as output_file:\n",
    "    output_file.write(text)"
   ],
   "metadata": {
    "collapsed": false
   }
  },
  {
   "cell_type": "code",
   "execution_count": 245,
   "outputs": [
    {
     "name": "stdout",
     "output_type": "stream",
     "text": [
      "0 Fallo la codification con ascii\n",
      "1 Fallo la codification con big5\n",
      "2 Fallo la codification con big5hkscs\n",
      "3 Decodificando con cp037: àÍÊ/>À ÍÊShªBz%ÑÁ>\n",
      "4 Fallo la codification con cp424\n",
      "5 Decodificando con cp437: Durand AurΓêÜ┬⌐lien\n",
      "6 Decodificando con cp500: àÍÊ/>À ÍÊShªBz%ÑÁ>\n",
      "7 Decodificando con cp720: Durand Aurظêأ┬رlien\n",
      "8 Decodificando con cp737: Durand AurέΙγ┬σlien\n",
      "9 Decodificando con cp775: Durand AurŌłÜ┬®lien\n",
      "10 Decodificando con cp850: Durand AurÔêÜ┬®lien\n",
      "11 Decodificando con cp852: Durand AurÔłÜ┬ęlien\n",
      "12 Decodificando con cp855: Durand AurРѕџ┬Еlien\n",
      "13 Fallo la codification con cp856\n",
      "14 Decodificando con cp857: Durand AurÔêÜ┬®lien\n",
      "15 Decodificando con iso8859_1: Durand AurâÂ©lien\n",
      "16 Decodificando con iso8859_2: Durand AurâÂŠlien\n",
      "17 Decodificando con iso8859_3: Durand AurâÂİlien\n",
      "18 Decodificando con iso8859_4: Durand AurâÂŠlien\n",
      "19 Decodificando con iso8859_5: Durand AurтТЉlien\n",
      "20 Fallo la codification con iso8859_6\n",
      "21 Decodificando con iso8859_7: Durand AurβΒ©lien\n",
      "22 Fallo la codification con iso8859_8\n",
      "23 Decodificando con iso8859_9: Durand AurâÂ©lien\n",
      "24 Decodificando con iso8859_10: Durand AurâÂĐlien\n",
      "25 Decodificando con iso8859_13: Durand AurāĀ©lien\n",
      "26 Decodificando con iso8859_14: Durand AurâÂ©lien\n",
      "27 Decodificando con iso8859_15: Durand AurâÂ©lien\n",
      "28 Decodificando con iso8859_16: Durand AurâÂ©lien\n"
     ]
    }
   ],
   "source": [
    "# Intento de decodificación\n",
    "encodings = ['ascii', 'big5', 'big5hkscs', 'cp037', 'cp424', 'cp437', 'cp500', 'cp720', 'cp737', 'cp775', 'cp850', 'cp852', 'cp855', 'cp856', 'cp857', 'iso8859_1', 'iso8859_2', 'iso8859_3', 'iso8859_4', 'iso8859_5', 'iso8859_6', 'iso8859_7', 'iso8859_8', 'iso8859_9', 'iso8859_10', 'iso8859_13', 'iso8859_14', 'iso8859_15', 'iso8859_16']\n",
    "\n",
    "with open('texto.txt', 'rb') as f:\n",
    "    text = f.read()\n",
    "\n",
    "for num, encoding in enumerate(encodings):\n",
    "    try:\n",
    "        decoded_text = text.decode(encoding)\n",
    "        print(f\"{num} Decodificando con {encoding}: {decoded_text}\")\n",
    "    except UnicodeDecodeError:\n",
    "        print(f\"{num} Fallo la codification con {encoding}\")"
   ],
   "metadata": {
    "collapsed": false
   }
  },
  {
   "cell_type": "markdown",
   "source": [],
   "metadata": {
    "collapsed": false
   }
  },
  {
   "cell_type": "markdown",
   "source": [
    "### Ahora si a preprocesar"
   ],
   "metadata": {
    "collapsed": false
   }
  },
  {
   "cell_type": "code",
   "execution_count": 41,
   "outputs": [],
   "source": [
    "import csv\n",
    "\n",
    "csv.field_size_limit(10000000)\n",
    "input_file = open('biden_cash.txt', 'r', encoding='macroman')\n",
    "# considero que es mejora cambiar la codificación aquí\n",
    "output_file = open('biden_cash_clean.txt', 'w', encoding='utf-8')"
   ],
   "metadata": {
    "collapsed": false
   }
  },
  {
   "cell_type": "code",
   "execution_count": 42,
   "outputs": [],
   "source": [
    "reader = csv.reader(input_file, delimiter='|')\n",
    "writer = csv.writer(output_file, delimiter='|')\n",
    "\n",
    "num_cols = 25  # Número de columnas esperado en cada fila\n",
    "for row in reader:\n",
    "    if len(row) < num_cols:\n",
    "        # Agregar valores faltantes\n",
    "        row.extend([''] * (num_cols - len(row)))\n",
    "    elif len(row) > num_cols:\n",
    "        # Eliminar columnas adicionales\n",
    "        row = row[:num_cols]\n",
    "    writer.writerow(row)\n",
    "\n",
    "input_file.close()\n",
    "output_file.close()"
   ],
   "metadata": {
    "collapsed": false
   }
  },
  {
   "cell_type": "markdown",
   "source": [
    "## Procesando los datos"
   ],
   "metadata": {
    "collapsed": false
   }
  },
  {
   "cell_type": "code",
   "execution_count": 45,
   "metadata": {
    "collapsed": true
   },
   "outputs": [],
   "source": [
    "import pandas as pd\n",
    "\n",
    "df = pd.read_csv('biden_cash_clean.txt', sep='|', header=None, on_bad_lines='skip', dtype={0: str, 2: str, 3: str, 17: str, 18: str, 19: str, 20: str, 21: str, 22: str, 23: str})"
   ]
  },
  {
   "cell_type": "markdown",
   "source": [
    "#### Buscando caracteres raros"
   ],
   "metadata": {
    "collapsed": false
   }
  },
  {
   "cell_type": "code",
   "execution_count": 401,
   "outputs": [],
   "source": [
    "# with open('sopa.txt', 'r', encoding='utf-8') as file:\n",
    "with open('biden_cash_clean.txt', 'r', encoding='utf-8') as file:\n",
    "    content = file.read()\n",
    "    unique_chars = set(content)\n",
    "    result = ''.join(unique_chars)"
   ],
   "metadata": {
    "collapsed": false
   }
  },
  {
   "cell_type": "code",
   "execution_count": 402,
   "outputs": [
    {
     "data": {
      "text/plain": "'\\x14∏^ARÌèï\\x15ÒVƒÆË:‚åöt?%W∑≤™Öøî8ºü\\x0e(ÀyP§ÈÁ\\x0b√π≠êãáÚn¶\\\\6[p\\x0cªÕÅõ\\x13“5≥¥ìùT\\x16}G°ÏCxΩk ÑûD®€\\uf8ff÷K<ÜÔﬁó\\x1aO´Ã-ä\\x02à⁄›fo’\\x1e£a,E$|LZßvMwh\\x11±7œ≈‰d…\\xa0J\\x01]â)FòmÎ»H`bçS„BQ\\x1bs–©Ug\\'•¢∞!Är\\x03∂\\x08+cñí~∫\\x060éØqX\\x04\\x18†3&.ÍYÂ=Ç∆#u\\x07ô\\ti‹·\\x19ﬂŒ{z◊>ú¨É”N14—2\\nlµj\"\\x1fŸ‡æ9ë_*e/ÿÊI@‘¬'"
     },
     "execution_count": 402,
     "metadata": {},
     "output_type": "execute_result"
    }
   ],
   "source": [
    "result"
   ],
   "metadata": {
    "collapsed": false
   }
  },
  {
   "cell_type": "code",
   "execution_count": 409,
   "outputs": [],
   "source": [
    "import re\n",
    "# result = re.sub(r'[a-zA-Z0-9\\u0080-\\u00FF]', '', result)\n",
    "# result = re.sub(r'[a-zA-Z0-9]', '', result)\n",
    "valores = r'[^\\w\\s\\x01-\\x20\\uf8ff\\\\/\\()\\,\\.\\[\\]\\-]'\n",
    "\n",
    "result = re.findall(valores, result)\n",
    "result = ''.join(result)"
   ],
   "metadata": {
    "collapsed": false
   }
  },
  {
   "cell_type": "code",
   "execution_count": 410,
   "outputs": [
    {
     "data": {
      "text/plain": "'∏^:‚?%∑≤™§√≠¶“≥¥}°®€÷<´⁄›’£$|±≈‰…»`„–©\\'•¢∞!∂+~∫†&=∆#‹·{◊>¨”—\"‡*@‘¬'"
     },
     "execution_count": 410,
     "metadata": {},
     "output_type": "execute_result"
    }
   ],
   "source": [
    "result"
   ],
   "metadata": {
    "collapsed": false
   }
  },
  {
   "cell_type": "code",
   "execution_count": 295,
   "outputs": [
    {
     "data": {
      "text/plain": "'ˆïš?º¿§¶ªÅ“¥°Ï¹€®ž«Ž´Ã¯’£±œ‰…\\\\Î»`„³¦©¢²¼+¡¸¤†Â˜‹·Œ>”¨Šµ\"Ÿ‡‘¬'"
     },
     "execution_count": 295,
     "metadata": {},
     "output_type": "execute_result"
    }
   ],
   "source": [
    "# result = result.replace(' ', '')\n",
    "# resultado = \"\"\"ˆïš?º¿§¶ªÅ“¥°Ï¹€®ž«Ž´Ã¯’£±œ‰…\\Î»`„³¦©¢²¼+¡¸¤†Â˜‹·Œ>”¨Šµ\"Ÿ‡‘¬\"\"\"\n",
    "# resultado\n",
    "\n"
   ],
   "metadata": {
    "collapsed": false
   }
  },
  {
   "cell_type": "code",
   "execution_count": 411,
   "outputs": [],
   "source": [
    "regex = '[' + re.escape(result) + ']'"
   ],
   "metadata": {
    "collapsed": false
   }
  },
  {
   "cell_type": "code",
   "execution_count": 412,
   "outputs": [],
   "source": [
    "reemplazo = {'√©': 'é', '√°': 'á', '√¥': 'ô', '¬†': ' ', '√¢': 'â', '√£': 'ã', '©ú': 'Ü', '©ñ': 'Ö', '©≠': 'í', 'Ё®': 'ó'}\n",
    "columnas = [3]\n",
    "\n",
    "for columna in columnas:\n",
    "    for c, v in reemplazo:\n",
    "        df[columna] = df[columna].str.replace(c, v)"
   ],
   "metadata": {
    "collapsed": false
   }
  },
  {
   "cell_type": "code",
   "execution_count": 413,
   "outputs": [],
   "source": [
    "# matches = df[df[3].str.contains('Äò', na=False)]\n",
    "# matches = df[df[3].str.len() > 110]\n",
    "matches = df[df[3].str.contains(regex, na=False)]\n",
    "# matches = df[~df[3].str.contains('[a-zA-Z0-9]', na=True)]"
   ],
   "metadata": {
    "collapsed": false
   }
  },
  {
   "cell_type": "code",
   "execution_count": 414,
   "outputs": [
    {
     "data": {
      "text/plain": "                       0        1    2   \\\n313      5163830067877201  09/2023  941   \n522      4915663053072469  03/2023  007   \n858      4152313464569537  12/2023  786   \n934      4152313492834200  04/2023  987   \n991      4152313391733628  04/2023  118   \n...                   ...      ...  ...   \n2087982  4908452706487004  11/2023  366   \n2087991  5512382330495070  12/2023  294   \n2088022  4222000358886327  11/2023  705   \n2088120  6375290337814116  12/2023  941   \n2088150  5321805667651494  12/2023  031   \n\n                                              3   \\\n313                              Rodrigo Garcú≠a   \n522                Alexander Mart&iacutenez Cuin   \n858                       Edgar Omar Acu&ntildea   \n934              Briseida Guti&eacuterrez Moreno   \n991                    Diana yaneth Guzm&aacuten   \n...                                          ...   \n2087982                          ???e??? G??????   \n2087991  Ana Luisa Gonz&aacutelez Mart&iacutenez   \n2088022                      JoúÉ†£o Paulo Gomes   \n2088120                         AdúÉ†£o P S Neto   \n2088150                      IstvúÉ†°n MúÉ†°rkus   \n\n                                                        4           5   \\\n313                                   BANCO SANTANDER S.A.  MASTERCARD   \n522      BANCO MERCANTIL DEL NORTE S.A.., INSTITUCION D...        VISA   \n858                                    BBVA BANCOMER, S.A.        VISA   \n934                                    BBVA BANCOMER, S.A.        VISA   \n991                                    BBVA BANCOMER, S.A.        VISA   \n...                                                    ...         ...   \n2087982                                 PIRAEUS BANK, S.A.        VISA   \n2087991    BANCO AZTECA S.A. INSTITUCION DE BANCA MULTIPLE  MASTERCARD   \n2088022                                ITAU UNIBANCO, S.A.        VISA   \n2088120                                               None     MAESTRO   \n2088150                                       OTP BANK PLC  MASTERCARD   \n\n                 6       7                                8     9   ...  \\\n313        PLATINUM   DEBIT                  Calle Orense 28  None  ...   \n522        ELECTRON   DEBIT                             None  None  ...   \n858         CLASSIC   DEBIT                             None  None  ...   \n934         CLASSIC   DEBIT                             None  None  ...   \n991         CLASSIC   DEBIT                             None  None  ...   \n...             ...     ...                              ...   ...  ...   \n2087982     CLASSIC  CREDIT                 ???a?? ?e???? 11    NO  ...   \n2087991    STANDARD   DEBIT                             None    MN  ...   \n2088022        GOLD  CREDIT  Rua Conde Maur√É¬≠cio de Nassau    NO  ...   \n2088120    PERSONAL   DEBIT  12 de Outubro  1661  Cristo Rei    49  ...   \n2088150  UNEMBOSSED   DEBIT       Kast√É¬©lydomb utca 21 1/1    PL  ...   \n\n            15           16   17   18   19   20   21   22   23  24  \n313      Email         None  NaN  NaN  NaN  NaN  NaN  NaN  NaN NaN  \n522       None         None  NaN  NaN  NaN  NaN  NaN  NaN  NaN NaN  \n858       None         None  NaN  NaN  NaN  NaN  NaN  NaN  NaN NaN  \n934       None         None  NaN  NaN  NaN  NaN  NaN  NaN  NaN NaN  \n991       None         None  NaN  NaN  NaN  NaN  NaN  NaN  NaN NaN  \n...        ...          ...  ...  ...  ...  ...  ...  ...  ...  ..  \n2087982   None   6946689607  NaN  NaN  NaN  NaN  NaN  NaN  NaN NaN  \n2087991   None         None  NaN  NaN  NaN  NaN  NaN  NaN  NaN NaN  \n2088022   None  65996808507  NaN  NaN  NaN  NaN  NaN  NaN  NaN NaN  \n2088120   None         None  NaN  NaN  NaN  NaN  NaN  NaN  NaN NaN  \n2088150   None         None  NaN  NaN  NaN  NaN  NaN  NaN  NaN NaN  \n\n[19137 rows x 25 columns]",
      "text/html": "<div>\n<style scoped>\n    .dataframe tbody tr th:only-of-type {\n        vertical-align: middle;\n    }\n\n    .dataframe tbody tr th {\n        vertical-align: top;\n    }\n\n    .dataframe thead th {\n        text-align: right;\n    }\n</style>\n<table border=\"1\" class=\"dataframe\">\n  <thead>\n    <tr style=\"text-align: right;\">\n      <th></th>\n      <th>0</th>\n      <th>1</th>\n      <th>2</th>\n      <th>3</th>\n      <th>4</th>\n      <th>5</th>\n      <th>6</th>\n      <th>7</th>\n      <th>8</th>\n      <th>9</th>\n      <th>...</th>\n      <th>15</th>\n      <th>16</th>\n      <th>17</th>\n      <th>18</th>\n      <th>19</th>\n      <th>20</th>\n      <th>21</th>\n      <th>22</th>\n      <th>23</th>\n      <th>24</th>\n    </tr>\n  </thead>\n  <tbody>\n    <tr>\n      <th>313</th>\n      <td>5163830067877201</td>\n      <td>09/2023</td>\n      <td>941</td>\n      <td>Rodrigo Garcú≠a</td>\n      <td>BANCO SANTANDER S.A.</td>\n      <td>MASTERCARD</td>\n      <td>PLATINUM</td>\n      <td>DEBIT</td>\n      <td>Calle Orense 28</td>\n      <td>None</td>\n      <td>...</td>\n      <td>Email</td>\n      <td>None</td>\n      <td>NaN</td>\n      <td>NaN</td>\n      <td>NaN</td>\n      <td>NaN</td>\n      <td>NaN</td>\n      <td>NaN</td>\n      <td>NaN</td>\n      <td>NaN</td>\n    </tr>\n    <tr>\n      <th>522</th>\n      <td>4915663053072469</td>\n      <td>03/2023</td>\n      <td>007</td>\n      <td>Alexander Mart&amp;iacutenez Cuin</td>\n      <td>BANCO MERCANTIL DEL NORTE S.A.., INSTITUCION D...</td>\n      <td>VISA</td>\n      <td>ELECTRON</td>\n      <td>DEBIT</td>\n      <td>None</td>\n      <td>None</td>\n      <td>...</td>\n      <td>None</td>\n      <td>None</td>\n      <td>NaN</td>\n      <td>NaN</td>\n      <td>NaN</td>\n      <td>NaN</td>\n      <td>NaN</td>\n      <td>NaN</td>\n      <td>NaN</td>\n      <td>NaN</td>\n    </tr>\n    <tr>\n      <th>858</th>\n      <td>4152313464569537</td>\n      <td>12/2023</td>\n      <td>786</td>\n      <td>Edgar Omar Acu&amp;ntildea</td>\n      <td>BBVA BANCOMER, S.A.</td>\n      <td>VISA</td>\n      <td>CLASSIC</td>\n      <td>DEBIT</td>\n      <td>None</td>\n      <td>None</td>\n      <td>...</td>\n      <td>None</td>\n      <td>None</td>\n      <td>NaN</td>\n      <td>NaN</td>\n      <td>NaN</td>\n      <td>NaN</td>\n      <td>NaN</td>\n      <td>NaN</td>\n      <td>NaN</td>\n      <td>NaN</td>\n    </tr>\n    <tr>\n      <th>934</th>\n      <td>4152313492834200</td>\n      <td>04/2023</td>\n      <td>987</td>\n      <td>Briseida Guti&amp;eacuterrez Moreno</td>\n      <td>BBVA BANCOMER, S.A.</td>\n      <td>VISA</td>\n      <td>CLASSIC</td>\n      <td>DEBIT</td>\n      <td>None</td>\n      <td>None</td>\n      <td>...</td>\n      <td>None</td>\n      <td>None</td>\n      <td>NaN</td>\n      <td>NaN</td>\n      <td>NaN</td>\n      <td>NaN</td>\n      <td>NaN</td>\n      <td>NaN</td>\n      <td>NaN</td>\n      <td>NaN</td>\n    </tr>\n    <tr>\n      <th>991</th>\n      <td>4152313391733628</td>\n      <td>04/2023</td>\n      <td>118</td>\n      <td>Diana yaneth Guzm&amp;aacuten</td>\n      <td>BBVA BANCOMER, S.A.</td>\n      <td>VISA</td>\n      <td>CLASSIC</td>\n      <td>DEBIT</td>\n      <td>None</td>\n      <td>None</td>\n      <td>...</td>\n      <td>None</td>\n      <td>None</td>\n      <td>NaN</td>\n      <td>NaN</td>\n      <td>NaN</td>\n      <td>NaN</td>\n      <td>NaN</td>\n      <td>NaN</td>\n      <td>NaN</td>\n      <td>NaN</td>\n    </tr>\n    <tr>\n      <th>...</th>\n      <td>...</td>\n      <td>...</td>\n      <td>...</td>\n      <td>...</td>\n      <td>...</td>\n      <td>...</td>\n      <td>...</td>\n      <td>...</td>\n      <td>...</td>\n      <td>...</td>\n      <td>...</td>\n      <td>...</td>\n      <td>...</td>\n      <td>...</td>\n      <td>...</td>\n      <td>...</td>\n      <td>...</td>\n      <td>...</td>\n      <td>...</td>\n      <td>...</td>\n      <td>...</td>\n    </tr>\n    <tr>\n      <th>2087982</th>\n      <td>4908452706487004</td>\n      <td>11/2023</td>\n      <td>366</td>\n      <td>???e??? G??????</td>\n      <td>PIRAEUS BANK, S.A.</td>\n      <td>VISA</td>\n      <td>CLASSIC</td>\n      <td>CREDIT</td>\n      <td>???a?? ?e???? 11</td>\n      <td>NO</td>\n      <td>...</td>\n      <td>None</td>\n      <td>6946689607</td>\n      <td>NaN</td>\n      <td>NaN</td>\n      <td>NaN</td>\n      <td>NaN</td>\n      <td>NaN</td>\n      <td>NaN</td>\n      <td>NaN</td>\n      <td>NaN</td>\n    </tr>\n    <tr>\n      <th>2087991</th>\n      <td>5512382330495070</td>\n      <td>12/2023</td>\n      <td>294</td>\n      <td>Ana Luisa Gonz&amp;aacutelez Mart&amp;iacutenez</td>\n      <td>BANCO AZTECA S.A. INSTITUCION DE BANCA MULTIPLE</td>\n      <td>MASTERCARD</td>\n      <td>STANDARD</td>\n      <td>DEBIT</td>\n      <td>None</td>\n      <td>MN</td>\n      <td>...</td>\n      <td>None</td>\n      <td>None</td>\n      <td>NaN</td>\n      <td>NaN</td>\n      <td>NaN</td>\n      <td>NaN</td>\n      <td>NaN</td>\n      <td>NaN</td>\n      <td>NaN</td>\n      <td>NaN</td>\n    </tr>\n    <tr>\n      <th>2088022</th>\n      <td>4222000358886327</td>\n      <td>11/2023</td>\n      <td>705</td>\n      <td>JoúÉ†£o Paulo Gomes</td>\n      <td>ITAU UNIBANCO, S.A.</td>\n      <td>VISA</td>\n      <td>GOLD</td>\n      <td>CREDIT</td>\n      <td>Rua Conde Maur√É¬≠cio de Nassau</td>\n      <td>NO</td>\n      <td>...</td>\n      <td>None</td>\n      <td>65996808507</td>\n      <td>NaN</td>\n      <td>NaN</td>\n      <td>NaN</td>\n      <td>NaN</td>\n      <td>NaN</td>\n      <td>NaN</td>\n      <td>NaN</td>\n      <td>NaN</td>\n    </tr>\n    <tr>\n      <th>2088120</th>\n      <td>6375290337814116</td>\n      <td>12/2023</td>\n      <td>941</td>\n      <td>AdúÉ†£o P S Neto</td>\n      <td>None</td>\n      <td>MAESTRO</td>\n      <td>PERSONAL</td>\n      <td>DEBIT</td>\n      <td>12 de Outubro  1661  Cristo Rei</td>\n      <td>49</td>\n      <td>...</td>\n      <td>None</td>\n      <td>None</td>\n      <td>NaN</td>\n      <td>NaN</td>\n      <td>NaN</td>\n      <td>NaN</td>\n      <td>NaN</td>\n      <td>NaN</td>\n      <td>NaN</td>\n      <td>NaN</td>\n    </tr>\n    <tr>\n      <th>2088150</th>\n      <td>5321805667651494</td>\n      <td>12/2023</td>\n      <td>031</td>\n      <td>IstvúÉ†°n MúÉ†°rkus</td>\n      <td>OTP BANK PLC</td>\n      <td>MASTERCARD</td>\n      <td>UNEMBOSSED</td>\n      <td>DEBIT</td>\n      <td>Kast√É¬©lydomb utca 21 1/1</td>\n      <td>PL</td>\n      <td>...</td>\n      <td>None</td>\n      <td>None</td>\n      <td>NaN</td>\n      <td>NaN</td>\n      <td>NaN</td>\n      <td>NaN</td>\n      <td>NaN</td>\n      <td>NaN</td>\n      <td>NaN</td>\n      <td>NaN</td>\n    </tr>\n  </tbody>\n</table>\n<p>19137 rows × 25 columns</p>\n</div>"
     },
     "execution_count": 414,
     "metadata": {},
     "output_type": "execute_result"
    }
   ],
   "source": [
    "matches"
   ],
   "metadata": {
    "collapsed": false
   }
  },
  {
   "cell_type": "code",
   "execution_count": 318,
   "outputs": [
    {
     "data": {
      "text/plain": "                       0        1    2                3   \\\n0        6226230733425407  12/2023  695             None   \n1        6221550408456006  10/2023  399             None   \n2        4751290214696189  10/2023  769   Ilona Urbanska   \n3        4127525027387386  11/2023  360       Jaco Botha   \n4        4430450055540321    08/23  344              NaN   \n...                   ...      ...  ...              ...   \n2088251  6070936031539213  03/2023  432      NAAZNIZEROX   \n2088252  4160852007761085  10/2023  363  Mariah Martinez   \n2088253  5170239219091474  03/2023  480             None   \n2088254  5275190073194314  03/2023  974      Gari Motino   \n2088255  5428208597125733  06/2023  373   Flaio Reboucas   \n\n                                            4                5         6   \\\n0                          CHINA MINSHENG BANK  CHINA UNION PAY   CLASSIC   \n1                                  PINGAN BANK  CHINA UNION PAY   CLASSIC   \n2                NATIONAL WESTMINSTER BANK PLC             VISA   CLASSIC   \n3                         FIRSTRAND BANK, LTD.             VISA      GOLD   \n4                                          NaN              NaN       NaN   \n...                                        ...              ...       ...   \n2088251                   PUNJAB NATIONAL BANK            RUPAY   CLASSIC   \n2088252                         RABOBANK, N.A.             VISA   CLASSIC   \n2088253                                  BOKIS       MASTERCARD      GOLD   \n2088254  BANK OF AMERICA, NATIONAL ASSOCIATION       MASTERCARD  ENHANCED   \n2088255          BANCO SANTANDER (BRASIL) S.A.       MASTERCARD  STANDARD   \n\n             7                                                8     9   ...  \\\n0        CREDIT                                             None    NO  ...   \n1        CREDIT                                             None    NO  ...   \n2         DEBIT                                3 Waldgrave Place    NO  ...   \n3         DEBIT                                             None  None  ...   \n4           NaN                                              NaN   NaN  ...   \n...         ...                                              ...   ...  ...   \n2088251   DEBIT                                      NarodaINDIA  None  ...   \n2088252   DEBIT                                 1101 concord ave    CA  ...   \n2088253   DEBIT                                             None    NO  ...   \n2088254   DEBIT                                             None    GA  ...   \n2088255  CREDIT  avenida salvador ribeiro siqueira sao cristovao    BR  ...   \n\n                               15           16   17   18   19   20   21   22  \\\n0                            None         None  NaN  NaN  NaN  NaN  NaN  NaN   \n1                            None         None  NaN  NaN  NaN  NaN  NaN  NaN   \n2                            None  07305581769  NaN  NaN  NaN  NaN  NaN  NaN   \n3                            None         None  NaN  NaN  NaN  NaN  NaN  NaN   \n4                             NaN          NaN  NaN  NaN  NaN  NaN  NaN  NaN   \n...                           ...          ...  ...  ...  ...  ...  ...  ...   \n2088251                      None         None  NaN  NaN  NaN  NaN  NaN  NaN   \n2088252                      None   8053544851  NaN  NaN  NaN  NaN  NaN  NaN   \n2088253                      None         None  NaN  NaN  NaN  NaN  NaN  NaN   \n2088254  garysoriano7@hotmail.com         None  NaN  NaN  NaN  NaN  NaN  NaN   \n2088255                      None         None  NaN  NaN  NaN  NaN  NaN  NaN   \n\n          23  24  \n0        NaN NaN  \n1        NaN NaN  \n2        NaN NaN  \n3        NaN NaN  \n4        NaN NaN  \n...      ...  ..  \n2088251  NaN NaN  \n2088252  NaN NaN  \n2088253  NaN NaN  \n2088254  NaN NaN  \n2088255  NaN NaN  \n\n[2088256 rows x 25 columns]",
      "text/html": "<div>\n<style scoped>\n    .dataframe tbody tr th:only-of-type {\n        vertical-align: middle;\n    }\n\n    .dataframe tbody tr th {\n        vertical-align: top;\n    }\n\n    .dataframe thead th {\n        text-align: right;\n    }\n</style>\n<table border=\"1\" class=\"dataframe\">\n  <thead>\n    <tr style=\"text-align: right;\">\n      <th></th>\n      <th>0</th>\n      <th>1</th>\n      <th>2</th>\n      <th>3</th>\n      <th>4</th>\n      <th>5</th>\n      <th>6</th>\n      <th>7</th>\n      <th>8</th>\n      <th>9</th>\n      <th>...</th>\n      <th>15</th>\n      <th>16</th>\n      <th>17</th>\n      <th>18</th>\n      <th>19</th>\n      <th>20</th>\n      <th>21</th>\n      <th>22</th>\n      <th>23</th>\n      <th>24</th>\n    </tr>\n  </thead>\n  <tbody>\n    <tr>\n      <th>0</th>\n      <td>6226230733425407</td>\n      <td>12/2023</td>\n      <td>695</td>\n      <td>None</td>\n      <td>CHINA MINSHENG BANK</td>\n      <td>CHINA UNION PAY</td>\n      <td>CLASSIC</td>\n      <td>CREDIT</td>\n      <td>None</td>\n      <td>NO</td>\n      <td>...</td>\n      <td>None</td>\n      <td>None</td>\n      <td>NaN</td>\n      <td>NaN</td>\n      <td>NaN</td>\n      <td>NaN</td>\n      <td>NaN</td>\n      <td>NaN</td>\n      <td>NaN</td>\n      <td>NaN</td>\n    </tr>\n    <tr>\n      <th>1</th>\n      <td>6221550408456006</td>\n      <td>10/2023</td>\n      <td>399</td>\n      <td>None</td>\n      <td>PINGAN BANK</td>\n      <td>CHINA UNION PAY</td>\n      <td>CLASSIC</td>\n      <td>CREDIT</td>\n      <td>None</td>\n      <td>NO</td>\n      <td>...</td>\n      <td>None</td>\n      <td>None</td>\n      <td>NaN</td>\n      <td>NaN</td>\n      <td>NaN</td>\n      <td>NaN</td>\n      <td>NaN</td>\n      <td>NaN</td>\n      <td>NaN</td>\n      <td>NaN</td>\n    </tr>\n    <tr>\n      <th>2</th>\n      <td>4751290214696189</td>\n      <td>10/2023</td>\n      <td>769</td>\n      <td>Ilona Urbanska</td>\n      <td>NATIONAL WESTMINSTER BANK PLC</td>\n      <td>VISA</td>\n      <td>CLASSIC</td>\n      <td>DEBIT</td>\n      <td>3 Waldgrave Place</td>\n      <td>NO</td>\n      <td>...</td>\n      <td>None</td>\n      <td>07305581769</td>\n      <td>NaN</td>\n      <td>NaN</td>\n      <td>NaN</td>\n      <td>NaN</td>\n      <td>NaN</td>\n      <td>NaN</td>\n      <td>NaN</td>\n      <td>NaN</td>\n    </tr>\n    <tr>\n      <th>3</th>\n      <td>4127525027387386</td>\n      <td>11/2023</td>\n      <td>360</td>\n      <td>Jaco Botha</td>\n      <td>FIRSTRAND BANK, LTD.</td>\n      <td>VISA</td>\n      <td>GOLD</td>\n      <td>DEBIT</td>\n      <td>None</td>\n      <td>None</td>\n      <td>...</td>\n      <td>None</td>\n      <td>None</td>\n      <td>NaN</td>\n      <td>NaN</td>\n      <td>NaN</td>\n      <td>NaN</td>\n      <td>NaN</td>\n      <td>NaN</td>\n      <td>NaN</td>\n      <td>NaN</td>\n    </tr>\n    <tr>\n      <th>4</th>\n      <td>4430450055540321</td>\n      <td>08/23</td>\n      <td>344</td>\n      <td>NaN</td>\n      <td>NaN</td>\n      <td>NaN</td>\n      <td>NaN</td>\n      <td>NaN</td>\n      <td>NaN</td>\n      <td>NaN</td>\n      <td>...</td>\n      <td>NaN</td>\n      <td>NaN</td>\n      <td>NaN</td>\n      <td>NaN</td>\n      <td>NaN</td>\n      <td>NaN</td>\n      <td>NaN</td>\n      <td>NaN</td>\n      <td>NaN</td>\n      <td>NaN</td>\n    </tr>\n    <tr>\n      <th>...</th>\n      <td>...</td>\n      <td>...</td>\n      <td>...</td>\n      <td>...</td>\n      <td>...</td>\n      <td>...</td>\n      <td>...</td>\n      <td>...</td>\n      <td>...</td>\n      <td>...</td>\n      <td>...</td>\n      <td>...</td>\n      <td>...</td>\n      <td>...</td>\n      <td>...</td>\n      <td>...</td>\n      <td>...</td>\n      <td>...</td>\n      <td>...</td>\n      <td>...</td>\n      <td>...</td>\n    </tr>\n    <tr>\n      <th>2088251</th>\n      <td>6070936031539213</td>\n      <td>03/2023</td>\n      <td>432</td>\n      <td>NAAZNIZEROX</td>\n      <td>PUNJAB NATIONAL BANK</td>\n      <td>RUPAY</td>\n      <td>CLASSIC</td>\n      <td>DEBIT</td>\n      <td>NarodaINDIA</td>\n      <td>None</td>\n      <td>...</td>\n      <td>None</td>\n      <td>None</td>\n      <td>NaN</td>\n      <td>NaN</td>\n      <td>NaN</td>\n      <td>NaN</td>\n      <td>NaN</td>\n      <td>NaN</td>\n      <td>NaN</td>\n      <td>NaN</td>\n    </tr>\n    <tr>\n      <th>2088252</th>\n      <td>4160852007761085</td>\n      <td>10/2023</td>\n      <td>363</td>\n      <td>Mariah Martinez</td>\n      <td>RABOBANK, N.A.</td>\n      <td>VISA</td>\n      <td>CLASSIC</td>\n      <td>DEBIT</td>\n      <td>1101 concord ave</td>\n      <td>CA</td>\n      <td>...</td>\n      <td>None</td>\n      <td>8053544851</td>\n      <td>NaN</td>\n      <td>NaN</td>\n      <td>NaN</td>\n      <td>NaN</td>\n      <td>NaN</td>\n      <td>NaN</td>\n      <td>NaN</td>\n      <td>NaN</td>\n    </tr>\n    <tr>\n      <th>2088253</th>\n      <td>5170239219091474</td>\n      <td>03/2023</td>\n      <td>480</td>\n      <td>None</td>\n      <td>BOKIS</td>\n      <td>MASTERCARD</td>\n      <td>GOLD</td>\n      <td>DEBIT</td>\n      <td>None</td>\n      <td>NO</td>\n      <td>...</td>\n      <td>None</td>\n      <td>None</td>\n      <td>NaN</td>\n      <td>NaN</td>\n      <td>NaN</td>\n      <td>NaN</td>\n      <td>NaN</td>\n      <td>NaN</td>\n      <td>NaN</td>\n      <td>NaN</td>\n    </tr>\n    <tr>\n      <th>2088254</th>\n      <td>5275190073194314</td>\n      <td>03/2023</td>\n      <td>974</td>\n      <td>Gari Motino</td>\n      <td>BANK OF AMERICA, NATIONAL ASSOCIATION</td>\n      <td>MASTERCARD</td>\n      <td>ENHANCED</td>\n      <td>DEBIT</td>\n      <td>None</td>\n      <td>GA</td>\n      <td>...</td>\n      <td>garysoriano7@hotmail.com</td>\n      <td>None</td>\n      <td>NaN</td>\n      <td>NaN</td>\n      <td>NaN</td>\n      <td>NaN</td>\n      <td>NaN</td>\n      <td>NaN</td>\n      <td>NaN</td>\n      <td>NaN</td>\n    </tr>\n    <tr>\n      <th>2088255</th>\n      <td>5428208597125733</td>\n      <td>06/2023</td>\n      <td>373</td>\n      <td>Flaio Reboucas</td>\n      <td>BANCO SANTANDER (BRASIL) S.A.</td>\n      <td>MASTERCARD</td>\n      <td>STANDARD</td>\n      <td>CREDIT</td>\n      <td>avenida salvador ribeiro siqueira sao cristovao</td>\n      <td>BR</td>\n      <td>...</td>\n      <td>None</td>\n      <td>None</td>\n      <td>NaN</td>\n      <td>NaN</td>\n      <td>NaN</td>\n      <td>NaN</td>\n      <td>NaN</td>\n      <td>NaN</td>\n      <td>NaN</td>\n      <td>NaN</td>\n    </tr>\n  </tbody>\n</table>\n<p>2088256 rows × 25 columns</p>\n</div>"
     },
     "execution_count": 318,
     "metadata": {},
     "output_type": "execute_result"
    }
   ],
   "source": [
    "df"
   ],
   "metadata": {
    "collapsed": false
   }
  },
  {
   "cell_type": "code",
   "execution_count": 415,
   "outputs": [
    {
     "data": {
      "text/plain": "                       0        1    2                3   \\\n0        6226230733425407  12/2023  695             None   \n1        6221550408456006  10/2023  399             None   \n2        4751290214696189  10/2023  769   Ilona Urbanska   \n3        4127525027387386  11/2023  360       Jaco Botha   \n4        4430450055540321    08/23  344              NaN   \n...                   ...      ...  ...              ...   \n2088251  6070936031539213  03/2023  432      NAAZNIZEROX   \n2088252  4160852007761085  10/2023  363  Mariah Martinez   \n2088253  5170239219091474  03/2023  480             None   \n2088254  5275190073194314  03/2023  974      Gari Motino   \n2088255  5428208597125733  06/2023  373   Flaio Reboucas   \n\n                                            4                5         6   \\\n0                          CHINA MINSHENG BANK  CHINA UNION PAY   CLASSIC   \n1                                  PINGAN BANK  CHINA UNION PAY   CLASSIC   \n2                NATIONAL WESTMINSTER BANK PLC             VISA   CLASSIC   \n3                         FIRSTRAND BANK, LTD.             VISA      GOLD   \n4                                          NaN              NaN       NaN   \n...                                        ...              ...       ...   \n2088251                   PUNJAB NATIONAL BANK            RUPAY   CLASSIC   \n2088252                         RABOBANK, N.A.             VISA   CLASSIC   \n2088253                                  BOKIS       MASTERCARD      GOLD   \n2088254  BANK OF AMERICA, NATIONAL ASSOCIATION       MASTERCARD  ENHANCED   \n2088255          BANCO SANTANDER (BRASIL) S.A.       MASTERCARD  STANDARD   \n\n             7                                                8     9   ...  \\\n0        CREDIT                                             None    NO  ...   \n1        CREDIT                                             None    NO  ...   \n2         DEBIT                                3 Waldgrave Place    NO  ...   \n3         DEBIT                                             None  None  ...   \n4           NaN                                              NaN   NaN  ...   \n...         ...                                              ...   ...  ...   \n2088251   DEBIT                                      NarodaINDIA  None  ...   \n2088252   DEBIT                                 1101 concord ave    CA  ...   \n2088253   DEBIT                                             None    NO  ...   \n2088254   DEBIT                                             None    GA  ...   \n2088255  CREDIT  avenida salvador ribeiro siqueira sao cristovao    BR  ...   \n\n                               15           16   17   18   19   20   21   22  \\\n0                            None         None  NaN  NaN  NaN  NaN  NaN  NaN   \n1                            None         None  NaN  NaN  NaN  NaN  NaN  NaN   \n2                            None  07305581769  NaN  NaN  NaN  NaN  NaN  NaN   \n3                            None         None  NaN  NaN  NaN  NaN  NaN  NaN   \n4                             NaN          NaN  NaN  NaN  NaN  NaN  NaN  NaN   \n...                           ...          ...  ...  ...  ...  ...  ...  ...   \n2088251                      None         None  NaN  NaN  NaN  NaN  NaN  NaN   \n2088252                      None   8053544851  NaN  NaN  NaN  NaN  NaN  NaN   \n2088253                      None         None  NaN  NaN  NaN  NaN  NaN  NaN   \n2088254  garysoriano7@hotmail.com         None  NaN  NaN  NaN  NaN  NaN  NaN   \n2088255                      None         None  NaN  NaN  NaN  NaN  NaN  NaN   \n\n          23  24  \n0        NaN NaN  \n1        NaN NaN  \n2        NaN NaN  \n3        NaN NaN  \n4        NaN NaN  \n...      ...  ..  \n2088251  NaN NaN  \n2088252  NaN NaN  \n2088253  NaN NaN  \n2088254  NaN NaN  \n2088255  NaN NaN  \n\n[2069119 rows x 25 columns]",
      "text/html": "<div>\n<style scoped>\n    .dataframe tbody tr th:only-of-type {\n        vertical-align: middle;\n    }\n\n    .dataframe tbody tr th {\n        vertical-align: top;\n    }\n\n    .dataframe thead th {\n        text-align: right;\n    }\n</style>\n<table border=\"1\" class=\"dataframe\">\n  <thead>\n    <tr style=\"text-align: right;\">\n      <th></th>\n      <th>0</th>\n      <th>1</th>\n      <th>2</th>\n      <th>3</th>\n      <th>4</th>\n      <th>5</th>\n      <th>6</th>\n      <th>7</th>\n      <th>8</th>\n      <th>9</th>\n      <th>...</th>\n      <th>15</th>\n      <th>16</th>\n      <th>17</th>\n      <th>18</th>\n      <th>19</th>\n      <th>20</th>\n      <th>21</th>\n      <th>22</th>\n      <th>23</th>\n      <th>24</th>\n    </tr>\n  </thead>\n  <tbody>\n    <tr>\n      <th>0</th>\n      <td>6226230733425407</td>\n      <td>12/2023</td>\n      <td>695</td>\n      <td>None</td>\n      <td>CHINA MINSHENG BANK</td>\n      <td>CHINA UNION PAY</td>\n      <td>CLASSIC</td>\n      <td>CREDIT</td>\n      <td>None</td>\n      <td>NO</td>\n      <td>...</td>\n      <td>None</td>\n      <td>None</td>\n      <td>NaN</td>\n      <td>NaN</td>\n      <td>NaN</td>\n      <td>NaN</td>\n      <td>NaN</td>\n      <td>NaN</td>\n      <td>NaN</td>\n      <td>NaN</td>\n    </tr>\n    <tr>\n      <th>1</th>\n      <td>6221550408456006</td>\n      <td>10/2023</td>\n      <td>399</td>\n      <td>None</td>\n      <td>PINGAN BANK</td>\n      <td>CHINA UNION PAY</td>\n      <td>CLASSIC</td>\n      <td>CREDIT</td>\n      <td>None</td>\n      <td>NO</td>\n      <td>...</td>\n      <td>None</td>\n      <td>None</td>\n      <td>NaN</td>\n      <td>NaN</td>\n      <td>NaN</td>\n      <td>NaN</td>\n      <td>NaN</td>\n      <td>NaN</td>\n      <td>NaN</td>\n      <td>NaN</td>\n    </tr>\n    <tr>\n      <th>2</th>\n      <td>4751290214696189</td>\n      <td>10/2023</td>\n      <td>769</td>\n      <td>Ilona Urbanska</td>\n      <td>NATIONAL WESTMINSTER BANK PLC</td>\n      <td>VISA</td>\n      <td>CLASSIC</td>\n      <td>DEBIT</td>\n      <td>3 Waldgrave Place</td>\n      <td>NO</td>\n      <td>...</td>\n      <td>None</td>\n      <td>07305581769</td>\n      <td>NaN</td>\n      <td>NaN</td>\n      <td>NaN</td>\n      <td>NaN</td>\n      <td>NaN</td>\n      <td>NaN</td>\n      <td>NaN</td>\n      <td>NaN</td>\n    </tr>\n    <tr>\n      <th>3</th>\n      <td>4127525027387386</td>\n      <td>11/2023</td>\n      <td>360</td>\n      <td>Jaco Botha</td>\n      <td>FIRSTRAND BANK, LTD.</td>\n      <td>VISA</td>\n      <td>GOLD</td>\n      <td>DEBIT</td>\n      <td>None</td>\n      <td>None</td>\n      <td>...</td>\n      <td>None</td>\n      <td>None</td>\n      <td>NaN</td>\n      <td>NaN</td>\n      <td>NaN</td>\n      <td>NaN</td>\n      <td>NaN</td>\n      <td>NaN</td>\n      <td>NaN</td>\n      <td>NaN</td>\n    </tr>\n    <tr>\n      <th>4</th>\n      <td>4430450055540321</td>\n      <td>08/23</td>\n      <td>344</td>\n      <td>NaN</td>\n      <td>NaN</td>\n      <td>NaN</td>\n      <td>NaN</td>\n      <td>NaN</td>\n      <td>NaN</td>\n      <td>NaN</td>\n      <td>...</td>\n      <td>NaN</td>\n      <td>NaN</td>\n      <td>NaN</td>\n      <td>NaN</td>\n      <td>NaN</td>\n      <td>NaN</td>\n      <td>NaN</td>\n      <td>NaN</td>\n      <td>NaN</td>\n      <td>NaN</td>\n    </tr>\n    <tr>\n      <th>...</th>\n      <td>...</td>\n      <td>...</td>\n      <td>...</td>\n      <td>...</td>\n      <td>...</td>\n      <td>...</td>\n      <td>...</td>\n      <td>...</td>\n      <td>...</td>\n      <td>...</td>\n      <td>...</td>\n      <td>...</td>\n      <td>...</td>\n      <td>...</td>\n      <td>...</td>\n      <td>...</td>\n      <td>...</td>\n      <td>...</td>\n      <td>...</td>\n      <td>...</td>\n      <td>...</td>\n    </tr>\n    <tr>\n      <th>2088251</th>\n      <td>6070936031539213</td>\n      <td>03/2023</td>\n      <td>432</td>\n      <td>NAAZNIZEROX</td>\n      <td>PUNJAB NATIONAL BANK</td>\n      <td>RUPAY</td>\n      <td>CLASSIC</td>\n      <td>DEBIT</td>\n      <td>NarodaINDIA</td>\n      <td>None</td>\n      <td>...</td>\n      <td>None</td>\n      <td>None</td>\n      <td>NaN</td>\n      <td>NaN</td>\n      <td>NaN</td>\n      <td>NaN</td>\n      <td>NaN</td>\n      <td>NaN</td>\n      <td>NaN</td>\n      <td>NaN</td>\n    </tr>\n    <tr>\n      <th>2088252</th>\n      <td>4160852007761085</td>\n      <td>10/2023</td>\n      <td>363</td>\n      <td>Mariah Martinez</td>\n      <td>RABOBANK, N.A.</td>\n      <td>VISA</td>\n      <td>CLASSIC</td>\n      <td>DEBIT</td>\n      <td>1101 concord ave</td>\n      <td>CA</td>\n      <td>...</td>\n      <td>None</td>\n      <td>8053544851</td>\n      <td>NaN</td>\n      <td>NaN</td>\n      <td>NaN</td>\n      <td>NaN</td>\n      <td>NaN</td>\n      <td>NaN</td>\n      <td>NaN</td>\n      <td>NaN</td>\n    </tr>\n    <tr>\n      <th>2088253</th>\n      <td>5170239219091474</td>\n      <td>03/2023</td>\n      <td>480</td>\n      <td>None</td>\n      <td>BOKIS</td>\n      <td>MASTERCARD</td>\n      <td>GOLD</td>\n      <td>DEBIT</td>\n      <td>None</td>\n      <td>NO</td>\n      <td>...</td>\n      <td>None</td>\n      <td>None</td>\n      <td>NaN</td>\n      <td>NaN</td>\n      <td>NaN</td>\n      <td>NaN</td>\n      <td>NaN</td>\n      <td>NaN</td>\n      <td>NaN</td>\n      <td>NaN</td>\n    </tr>\n    <tr>\n      <th>2088254</th>\n      <td>5275190073194314</td>\n      <td>03/2023</td>\n      <td>974</td>\n      <td>Gari Motino</td>\n      <td>BANK OF AMERICA, NATIONAL ASSOCIATION</td>\n      <td>MASTERCARD</td>\n      <td>ENHANCED</td>\n      <td>DEBIT</td>\n      <td>None</td>\n      <td>GA</td>\n      <td>...</td>\n      <td>garysoriano7@hotmail.com</td>\n      <td>None</td>\n      <td>NaN</td>\n      <td>NaN</td>\n      <td>NaN</td>\n      <td>NaN</td>\n      <td>NaN</td>\n      <td>NaN</td>\n      <td>NaN</td>\n      <td>NaN</td>\n    </tr>\n    <tr>\n      <th>2088255</th>\n      <td>5428208597125733</td>\n      <td>06/2023</td>\n      <td>373</td>\n      <td>Flaio Reboucas</td>\n      <td>BANCO SANTANDER (BRASIL) S.A.</td>\n      <td>MASTERCARD</td>\n      <td>STANDARD</td>\n      <td>CREDIT</td>\n      <td>avenida salvador ribeiro siqueira sao cristovao</td>\n      <td>BR</td>\n      <td>...</td>\n      <td>None</td>\n      <td>None</td>\n      <td>NaN</td>\n      <td>NaN</td>\n      <td>NaN</td>\n      <td>NaN</td>\n      <td>NaN</td>\n      <td>NaN</td>\n      <td>NaN</td>\n      <td>NaN</td>\n    </tr>\n  </tbody>\n</table>\n<p>2069119 rows × 25 columns</p>\n</div>"
     },
     "execution_count": 415,
     "metadata": {},
     "output_type": "execute_result"
    }
   ],
   "source": [
    "diff = pd.merge(df, matches, how='outer', indicator=True)\n",
    "diff = diff[diff['_merge'] == 'left_only'].drop('_merge', axis=1)\n",
    "\n",
    "diff"
   ],
   "metadata": {
    "collapsed": false
   }
  },
  {
   "cell_type": "code",
   "execution_count": 375,
   "outputs": [
    {
     "data": {
      "text/plain": "'∏^:‚?%∑≤™§√≠¶\\\\[“≥¥}°®€÷<´-⁄›’£$|±≈‰…]»`„–©\\'•¢∞!∂+~∫†&=∆#‹·{◊>¨”—\"‡*@‘¬'"
     },
     "execution_count": 375,
     "metadata": {},
     "output_type": "execute_result"
    }
   ],
   "source": [
    "# import re\n",
    "#\n",
    "# text = '\\x14∏^ARÌèï\\x15ÒVƒÆË:‚åöt?%W∑≤™Öøî8ºü\\x0e(ÀyP§ÈÁ\\x0b√π≠êãáÚn¶\\\\6[p\\x0cªÕÅõ\\x13“5≥¥ìùT\\x16}G°ÏCxΩk ÑûD®€\\uf8ff÷K<ÜÔﬁó\\x1aO´Ã-ä\\x02à⁄›fo’\\x1e£a,E$|LZßvMwh\\x11±7œ≈‰d…\\xa0J\\x01]â)FòmÎ»H`bçS„BQ\\x1bs–©Ug\\'•¢∞!Är\\x03∂\\x08+cñí~∫\\x060éØqX\\x04\\x18†3&.ÍYÂ=Ç∆#u\\x07ô\\ti‹·\\x19ﬂŒ{z◊>ú¨É”N14—2\\nlµj\"\\x1fŸ‡æ9ë_*e/ÿÊI@‘¬'\n",
    "#\n",
    "# valores = '[^\\w\\s\\x01-\\x20\\uf8ff\\\\/\\()\\,\\.]+'\n",
    "#\n",
    "# coincidencia = re.findall(valores, text)\n",
    "# coincidencia = ''.join(coincidencia)\n",
    "# coincidencia"
   ],
   "metadata": {
    "collapsed": false
   }
  }
 ],
 "metadata": {
  "kernelspec": {
   "display_name": "Python 3",
   "language": "python",
   "name": "python3"
  },
  "language_info": {
   "codemirror_mode": {
    "name": "ipython",
    "version": 2
   },
   "file_extension": ".py",
   "mimetype": "text/x-python",
   "name": "python",
   "nbconvert_exporter": "python",
   "pygments_lexer": "ipython2",
   "version": "2.7.6"
  }
 },
 "nbformat": 4,
 "nbformat_minor": 0
}
