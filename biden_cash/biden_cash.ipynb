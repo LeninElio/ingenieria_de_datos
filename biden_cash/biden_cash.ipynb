{
 "cells": [
  {
   "cell_type": "markdown",
   "source": [
    "## Igualamos la cantidad de columnas a 25 para cada fila"
   ],
   "metadata": {
    "collapsed": false
   }
  },
  {
   "cell_type": "code",
   "execution_count": null,
   "metadata": {
    "collapsed": true
   },
   "outputs": [],
   "source": [
    "import csv\n",
    "\n",
    "csv.field_size_limit(10000000)\n",
    "input_file = open('biden_cash_enc.txt', 'r', encoding='utf-8')\n",
    "# considero que es mejora cambiar la codificación aquí\n",
    "output_file = open('biden_cash_clean_enc.txt', 'w', encoding='utf-8')"
   ]
  },
  {
   "cell_type": "code",
   "execution_count": null,
   "outputs": [],
   "source": [
    "reader = csv.reader(input_file, delimiter='|')\n",
    "writer = csv.writer(output_file, delimiter='|')\n",
    "\n",
    "num_cols = 25  # Número de columnas esperado en cada fila\n",
    "for row in reader:\n",
    "    if len(row) < num_cols:\n",
    "        # Agregar valores faltantes\n",
    "        row.extend([''] * (num_cols - len(row)))\n",
    "    elif len(row) > num_cols:\n",
    "        # Eliminar columnas adicionales\n",
    "        row = row[:num_cols]\n",
    "    writer.writerow(row)\n",
    "\n",
    "input_file.close()\n",
    "output_file.close()"
   ],
   "metadata": {
    "collapsed": false
   }
  },
  {
   "cell_type": "markdown",
   "source": [
    "## Leemos el archivo preprocesado en el dataframe principal (df)"
   ],
   "metadata": {
    "collapsed": false
   }
  },
  {
   "cell_type": "code",
   "execution_count": null,
   "outputs": [],
   "source": [
    "import pandas as pd\n",
    "\n",
    "df = pd.read_csv('biden_cash_clean.txt', sep='|', header=None, on_bad_lines='skip', dtype={0: str, 17: str, 18: str, 19: str, 20: str, 21: str, 22: str, 23: str})"
   ],
   "metadata": {
    "collapsed": false
   }
  },
  {
   "cell_type": "code",
   "execution_count": null,
   "outputs": [],
   "source": [
    "df"
   ],
   "metadata": {
    "collapsed": false
   }
  },
  {
   "cell_type": "markdown",
   "source": [
    "### Algunos caracteres no se transcodificaron de forma correcta, se procede a buscarlos"
   ],
   "metadata": {
    "collapsed": false
   }
  },
  {
   "cell_type": "code",
   "execution_count": null,
   "outputs": [],
   "source": [
    "with open('biden_cash_clean_enc.txt', 'r', encoding='utf-8') as file:\n",
    "    content = file.read()\n",
    "    unique_chars = set(content)\n",
    "    result = ''.join(unique_chars)"
   ],
   "metadata": {
    "collapsed": false
   }
  },
  {
   "cell_type": "code",
   "execution_count": null,
   "outputs": [],
   "source": [
    "result"
   ],
   "metadata": {
    "collapsed": false
   }
  },
  {
   "cell_type": "code",
   "execution_count": null,
   "outputs": [],
   "source": [
    "import re\n",
    "valores = r'[^\\w\\s\\x01-\\x20\\x01-\\x20\\uf8ff\\\\/\\()\\,\\[\\]\\.\\-\\–\\']'\n",
    "\n",
    "result = re.findall(valores, result)\n",
    "result = ''.join(result)"
   ],
   "metadata": {
    "collapsed": false
   }
  },
  {
   "cell_type": "code",
   "execution_count": null,
   "outputs": [],
   "source": [
    "result"
   ],
   "metadata": {
    "collapsed": false
   }
  },
  {
   "cell_type": "code",
   "execution_count": null,
   "outputs": [],
   "source": [
    "regex = '[' + re.escape(result) + ']'"
   ],
   "metadata": {
    "collapsed": false
   }
  },
  {
   "cell_type": "markdown",
   "source": [
    "#### Tratamos de reemplazar algunos caracteres conocidos por su equivalente"
   ],
   "metadata": {
    "collapsed": false
   }
  },
  {
   "cell_type": "code",
   "execution_count": null,
   "outputs": [],
   "source": [
    "reemplazo = {\n",
    "    '√©': 'é', '√°': 'á', '√¥': 'ô', '¬†': ' ',\n",
    "    '††': ' ', '√¢': 'â', '√£': 'ã', '©ú': 'Ü',\n",
    "    '©ñ': 'Ö', '©≠': 'í', 'Ё®': 'ó', '&eacute': 'é', '&aacute': 'á',\n",
    "    '&iacute': 'í', 'ú≠': 'í', '&oacute': 'ó', 'ú°': 'á', '&uacute': 'ú'\n",
    "}\n",
    "\n",
    "# columnas = [3]\n",
    "columnas = [3, 9, 10, 11, 12]\n",
    "\n",
    "for columna in columnas:\n",
    "    for c, v in reemplazo.items():\n",
    "        df[columna] = df[columna].str.replace(c, v)\n",
    "        # print(columna, c, v)\n",
    "# df[columnas] = df[columnas].replace(reemplazo, inplace=False)"
   ],
   "metadata": {
    "collapsed": false
   }
  },
  {
   "cell_type": "markdown",
   "source": [
    "#### Se obtiene el dataframe (matches) con los caracteres que no se transcodificaron de forma correcta y no se pudieron reemplazar"
   ],
   "metadata": {
    "collapsed": false
   }
  },
  {
   "cell_type": "code",
   "execution_count": null,
   "outputs": [],
   "source": [
    "matches = df[df[3].str.contains(regex, na=False)]"
   ],
   "metadata": {
    "collapsed": false
   }
  },
  {
   "cell_type": "code",
   "execution_count": null,
   "outputs": [],
   "source": [
    "matches"
   ],
   "metadata": {
    "collapsed": false
   }
  },
  {
   "cell_type": "markdown",
   "source": [
    "## Eliminamos los elementos del dataframe matches del dataframe principal"
   ],
   "metadata": {
    "collapsed": false
   }
  },
  {
   "cell_type": "code",
   "execution_count": null,
   "outputs": [],
   "source": [
    "diff = pd.merge(df, matches, how='outer', indicator=True)\n",
    "diff = diff[diff['_merge'] == 'left_only'].drop('_merge', axis=1)\n",
    "\n",
    "diff"
   ],
   "metadata": {
    "collapsed": false
   }
  },
  {
   "cell_type": "markdown",
   "source": [
    "### Renombramos las columnas con el posible nombre del dato que contiene"
   ],
   "metadata": {
    "collapsed": false
   }
  },
  {
   "cell_type": "code",
   "execution_count": null,
   "outputs": [],
   "source": [
    "diff.rename(columns={\n",
    "    0: 'numero_tarjeta',\n",
    "    1: 'vencimiento',\n",
    "    2: 'ccv',\n",
    "    3: 'nombre_titular',\n",
    "    4: 'nombre_banco',\n",
    "    5: 'tarjeta',\n",
    "    6: 'nivel_tarjeta',\n",
    "    7: 'tipo_tarjeta',\n",
    "    8: 'direction_titular',\n",
    "    9: 'abreviatura_cp',\n",
    "    10: 'ciudad_titular',\n",
    "    11: 'code_postal',\n",
    "    12: 'pais_titular',\n",
    "    15: 'correo_titular',\n",
    "    16: 'numero_titular'\n",
    "}, inplace=True)"
   ],
   "metadata": {
    "collapsed": false
   }
  },
  {
   "cell_type": "code",
   "execution_count": null,
   "outputs": [],
   "source": [
    "diff"
   ],
   "metadata": {
    "collapsed": false
   }
  },
  {
   "cell_type": "markdown",
   "source": [
    "#### Para tener un mejor conocimiento de los datos, les agregue una descripcion:\n",
    "\n",
    "* numero_tarjeta: Número de identificación único asignado a la tarjeta de crédito o débito.\n",
    "* vencimiento: Fecha de expiración de la tarjeta de crédito o débito.\n",
    "* ccv: Código de seguridad de tres o cuatro dígitos ubicado en la parte trasera de la tarjeta de crédito o débito.\n",
    "* nombre_titular: Nombre completo del titular de la tarjeta de crédito o débito.\n",
    "* nombre_banco: Nombre del banco emisor de la tarjeta de crédito o débito.\n",
    "* tarjeta: Tipo de tarjeta de crédito o débito (por ejemplo, Visa, Mastercard, American Express, etc.).\n",
    "* nivel_tarjeta: Nivel de la tarjeta de crédito o débito (por ejemplo, clásica, oro, platino, etc.).\n",
    "* tipo_tarjeta: Tipo de tarjeta de crédito o débito (por ejemplo, personal, empresarial, estudiantil, etc.).\n",
    "* direction_titular: Dirección del titular de la tarjeta de crédito o débito.\n",
    "* abreviatura_cp: Abreviatura del código postal del titular de la tarjeta de crédito o débito.\n",
    "* ciudad_titular: Ciudad de residencia del titular de la tarjeta de crédito o débito.\n",
    "* code_postal: Código postal del titular de la tarjeta de crédito o débito.\n",
    "* pais_titular: País de residencia del titular de la tarjeta de crédito o débito.\n",
    "* correo_titular: Correo electrónico del titular de la tarjeta de crédito o débito.\n",
    "* numero_titular: Número de teléfono del titular de la tarjeta de crédito o débito."
   ],
   "metadata": {
    "collapsed": false
   }
  },
  {
   "cell_type": "code",
   "execution_count": null,
   "outputs": [],
   "source": [],
   "metadata": {
    "collapsed": false
   }
  }
 ],
 "metadata": {
  "kernelspec": {
   "display_name": "Python 3",
   "language": "python",
   "name": "python3"
  },
  "language_info": {
   "codemirror_mode": {
    "name": "ipython",
    "version": 2
   },
   "file_extension": ".py",
   "mimetype": "text/x-python",
   "name": "python",
   "nbconvert_exporter": "python",
   "pygments_lexer": "ipython2",
   "version": "2.7.6"
  }
 },
 "nbformat": 4,
 "nbformat_minor": 0
}
