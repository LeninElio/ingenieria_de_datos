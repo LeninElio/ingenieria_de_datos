{
 "cells": [
  {
   "cell_type": "markdown",
   "source": [
    "## Igualamos la cantidad de columnas a 25 para cada fila"
   ],
   "metadata": {
    "collapsed": false
   }
  },
  {
   "cell_type": "code",
   "execution_count": null,
   "metadata": {
    "collapsed": true
   },
   "outputs": [],
   "source": [
    "import csv\n",
    "\n",
    "csv.field_size_limit(10000000)\n",
    "input_file = open('biden_cash_enc.txt', 'r', encoding='utf-8')\n",
    "# considero que es mejora cambiar la codificación aquí\n",
    "output_file = open('biden_cash_clean_enc.txt', 'w', encoding='utf-8')"
   ]
  },
  {
   "cell_type": "code",
   "execution_count": null,
   "outputs": [],
   "source": [
    "reader = csv.reader(input_file, delimiter='|')\n",
    "writer = csv.writer(output_file, delimiter='|')\n",
    "\n",
    "num_cols = 25  # Número de columnas esperado en cada fila\n",
    "for row in reader:\n",
    "    if len(row) < num_cols:\n",
    "        # Agregar valores faltantes\n",
    "        row.extend([''] * (num_cols - len(row)))\n",
    "    elif len(row) > num_cols:\n",
    "        # Eliminar columnas adicionales\n",
    "        row = row[:num_cols]\n",
    "    writer.writerow(row)\n",
    "\n",
    "input_file.close()\n",
    "output_file.close()"
   ],
   "metadata": {
    "collapsed": false
   }
  },
  {
   "cell_type": "markdown",
   "source": [
    "## Leemos el archivo preprocesado en el dataframe principal (df)"
   ],
   "metadata": {
    "collapsed": false
   }
  },
  {
   "cell_type": "code",
   "execution_count": 2,
   "outputs": [],
   "source": [
    "import pandas as pd\n",
    "\n",
    "df = pd.read_csv('biden_cash_clean.txt', sep='|', header=None, on_bad_lines='skip', dtype={0: str, 17: str, 18: str, 19: str, 20: str, 21: str, 22: str, 23: str})"
   ],
   "metadata": {
    "collapsed": false
   }
  },
  {
   "cell_type": "code",
   "execution_count": 3,
   "outputs": [
    {
     "data": {
      "text/plain": "                       0        1    2                3   \\\n0        6226230733425407  12/2023  695             None   \n1        6221550408456006  10/2023  399             None   \n2        4751290214696189  10/2023  769   Ilona Urbanska   \n3        4127525027387386  11/2023  360       Jaco Botha   \n4        4430450055540321    08/23  344              NaN   \n...                   ...      ...  ...              ...   \n2088251  6070936031539213  03/2023  432      NAAZNIZEROX   \n2088252  4160852007761085  10/2023  363  Mariah Martinez   \n2088253  5170239219091474  03/2023  480             None   \n2088254  5275190073194314  03/2023  974      Gari Motino   \n2088255  5428208597125733  06/2023  373   Flaio Reboucas   \n\n                                            4                5         6   \\\n0                          CHINA MINSHENG BANK  CHINA UNION PAY   CLASSIC   \n1                                  PINGAN BANK  CHINA UNION PAY   CLASSIC   \n2                NATIONAL WESTMINSTER BANK PLC             VISA   CLASSIC   \n3                         FIRSTRAND BANK, LTD.             VISA      GOLD   \n4                                          NaN              NaN       NaN   \n...                                        ...              ...       ...   \n2088251                   PUNJAB NATIONAL BANK            RUPAY   CLASSIC   \n2088252                         RABOBANK, N.A.             VISA   CLASSIC   \n2088253                                  BOKIS       MASTERCARD      GOLD   \n2088254  BANK OF AMERICA, NATIONAL ASSOCIATION       MASTERCARD  ENHANCED   \n2088255          BANCO SANTANDER (BRASIL) S.A.       MASTERCARD  STANDARD   \n\n             7                                                8     9   ...  \\\n0        CREDIT                                             None    NO  ...   \n1        CREDIT                                             None    NO  ...   \n2         DEBIT                                3 Waldgrave Place    NO  ...   \n3         DEBIT                                             None  None  ...   \n4           NaN                                              NaN   NaN  ...   \n...         ...                                              ...   ...  ...   \n2088251   DEBIT                                      NarodaINDIA  None  ...   \n2088252   DEBIT                                 1101 concord ave    CA  ...   \n2088253   DEBIT                                             None    NO  ...   \n2088254   DEBIT                                             None    GA  ...   \n2088255  CREDIT  avenida salvador ribeiro siqueira sao cristovao    BR  ...   \n\n                               15           16   17   18   19   20   21   22  \\\n0                            None         None  NaN  NaN  NaN  NaN  NaN  NaN   \n1                            None         None  NaN  NaN  NaN  NaN  NaN  NaN   \n2                            None  07305581769  NaN  NaN  NaN  NaN  NaN  NaN   \n3                            None         None  NaN  NaN  NaN  NaN  NaN  NaN   \n4                             NaN          NaN  NaN  NaN  NaN  NaN  NaN  NaN   \n...                           ...          ...  ...  ...  ...  ...  ...  ...   \n2088251                      None         None  NaN  NaN  NaN  NaN  NaN  NaN   \n2088252                      None   8053544851  NaN  NaN  NaN  NaN  NaN  NaN   \n2088253                      None         None  NaN  NaN  NaN  NaN  NaN  NaN   \n2088254  garysoriano7@hotmail.com         None  NaN  NaN  NaN  NaN  NaN  NaN   \n2088255                      None         None  NaN  NaN  NaN  NaN  NaN  NaN   \n\n          23  24  \n0        NaN NaN  \n1        NaN NaN  \n2        NaN NaN  \n3        NaN NaN  \n4        NaN NaN  \n...      ...  ..  \n2088251  NaN NaN  \n2088252  NaN NaN  \n2088253  NaN NaN  \n2088254  NaN NaN  \n2088255  NaN NaN  \n\n[2088256 rows x 25 columns]",
      "text/html": "<div>\n<style scoped>\n    .dataframe tbody tr th:only-of-type {\n        vertical-align: middle;\n    }\n\n    .dataframe tbody tr th {\n        vertical-align: top;\n    }\n\n    .dataframe thead th {\n        text-align: right;\n    }\n</style>\n<table border=\"1\" class=\"dataframe\">\n  <thead>\n    <tr style=\"text-align: right;\">\n      <th></th>\n      <th>0</th>\n      <th>1</th>\n      <th>2</th>\n      <th>3</th>\n      <th>4</th>\n      <th>5</th>\n      <th>6</th>\n      <th>7</th>\n      <th>8</th>\n      <th>9</th>\n      <th>...</th>\n      <th>15</th>\n      <th>16</th>\n      <th>17</th>\n      <th>18</th>\n      <th>19</th>\n      <th>20</th>\n      <th>21</th>\n      <th>22</th>\n      <th>23</th>\n      <th>24</th>\n    </tr>\n  </thead>\n  <tbody>\n    <tr>\n      <th>0</th>\n      <td>6226230733425407</td>\n      <td>12/2023</td>\n      <td>695</td>\n      <td>None</td>\n      <td>CHINA MINSHENG BANK</td>\n      <td>CHINA UNION PAY</td>\n      <td>CLASSIC</td>\n      <td>CREDIT</td>\n      <td>None</td>\n      <td>NO</td>\n      <td>...</td>\n      <td>None</td>\n      <td>None</td>\n      <td>NaN</td>\n      <td>NaN</td>\n      <td>NaN</td>\n      <td>NaN</td>\n      <td>NaN</td>\n      <td>NaN</td>\n      <td>NaN</td>\n      <td>NaN</td>\n    </tr>\n    <tr>\n      <th>1</th>\n      <td>6221550408456006</td>\n      <td>10/2023</td>\n      <td>399</td>\n      <td>None</td>\n      <td>PINGAN BANK</td>\n      <td>CHINA UNION PAY</td>\n      <td>CLASSIC</td>\n      <td>CREDIT</td>\n      <td>None</td>\n      <td>NO</td>\n      <td>...</td>\n      <td>None</td>\n      <td>None</td>\n      <td>NaN</td>\n      <td>NaN</td>\n      <td>NaN</td>\n      <td>NaN</td>\n      <td>NaN</td>\n      <td>NaN</td>\n      <td>NaN</td>\n      <td>NaN</td>\n    </tr>\n    <tr>\n      <th>2</th>\n      <td>4751290214696189</td>\n      <td>10/2023</td>\n      <td>769</td>\n      <td>Ilona Urbanska</td>\n      <td>NATIONAL WESTMINSTER BANK PLC</td>\n      <td>VISA</td>\n      <td>CLASSIC</td>\n      <td>DEBIT</td>\n      <td>3 Waldgrave Place</td>\n      <td>NO</td>\n      <td>...</td>\n      <td>None</td>\n      <td>07305581769</td>\n      <td>NaN</td>\n      <td>NaN</td>\n      <td>NaN</td>\n      <td>NaN</td>\n      <td>NaN</td>\n      <td>NaN</td>\n      <td>NaN</td>\n      <td>NaN</td>\n    </tr>\n    <tr>\n      <th>3</th>\n      <td>4127525027387386</td>\n      <td>11/2023</td>\n      <td>360</td>\n      <td>Jaco Botha</td>\n      <td>FIRSTRAND BANK, LTD.</td>\n      <td>VISA</td>\n      <td>GOLD</td>\n      <td>DEBIT</td>\n      <td>None</td>\n      <td>None</td>\n      <td>...</td>\n      <td>None</td>\n      <td>None</td>\n      <td>NaN</td>\n      <td>NaN</td>\n      <td>NaN</td>\n      <td>NaN</td>\n      <td>NaN</td>\n      <td>NaN</td>\n      <td>NaN</td>\n      <td>NaN</td>\n    </tr>\n    <tr>\n      <th>4</th>\n      <td>4430450055540321</td>\n      <td>08/23</td>\n      <td>344</td>\n      <td>NaN</td>\n      <td>NaN</td>\n      <td>NaN</td>\n      <td>NaN</td>\n      <td>NaN</td>\n      <td>NaN</td>\n      <td>NaN</td>\n      <td>...</td>\n      <td>NaN</td>\n      <td>NaN</td>\n      <td>NaN</td>\n      <td>NaN</td>\n      <td>NaN</td>\n      <td>NaN</td>\n      <td>NaN</td>\n      <td>NaN</td>\n      <td>NaN</td>\n      <td>NaN</td>\n    </tr>\n    <tr>\n      <th>...</th>\n      <td>...</td>\n      <td>...</td>\n      <td>...</td>\n      <td>...</td>\n      <td>...</td>\n      <td>...</td>\n      <td>...</td>\n      <td>...</td>\n      <td>...</td>\n      <td>...</td>\n      <td>...</td>\n      <td>...</td>\n      <td>...</td>\n      <td>...</td>\n      <td>...</td>\n      <td>...</td>\n      <td>...</td>\n      <td>...</td>\n      <td>...</td>\n      <td>...</td>\n      <td>...</td>\n    </tr>\n    <tr>\n      <th>2088251</th>\n      <td>6070936031539213</td>\n      <td>03/2023</td>\n      <td>432</td>\n      <td>NAAZNIZEROX</td>\n      <td>PUNJAB NATIONAL BANK</td>\n      <td>RUPAY</td>\n      <td>CLASSIC</td>\n      <td>DEBIT</td>\n      <td>NarodaINDIA</td>\n      <td>None</td>\n      <td>...</td>\n      <td>None</td>\n      <td>None</td>\n      <td>NaN</td>\n      <td>NaN</td>\n      <td>NaN</td>\n      <td>NaN</td>\n      <td>NaN</td>\n      <td>NaN</td>\n      <td>NaN</td>\n      <td>NaN</td>\n    </tr>\n    <tr>\n      <th>2088252</th>\n      <td>4160852007761085</td>\n      <td>10/2023</td>\n      <td>363</td>\n      <td>Mariah Martinez</td>\n      <td>RABOBANK, N.A.</td>\n      <td>VISA</td>\n      <td>CLASSIC</td>\n      <td>DEBIT</td>\n      <td>1101 concord ave</td>\n      <td>CA</td>\n      <td>...</td>\n      <td>None</td>\n      <td>8053544851</td>\n      <td>NaN</td>\n      <td>NaN</td>\n      <td>NaN</td>\n      <td>NaN</td>\n      <td>NaN</td>\n      <td>NaN</td>\n      <td>NaN</td>\n      <td>NaN</td>\n    </tr>\n    <tr>\n      <th>2088253</th>\n      <td>5170239219091474</td>\n      <td>03/2023</td>\n      <td>480</td>\n      <td>None</td>\n      <td>BOKIS</td>\n      <td>MASTERCARD</td>\n      <td>GOLD</td>\n      <td>DEBIT</td>\n      <td>None</td>\n      <td>NO</td>\n      <td>...</td>\n      <td>None</td>\n      <td>None</td>\n      <td>NaN</td>\n      <td>NaN</td>\n      <td>NaN</td>\n      <td>NaN</td>\n      <td>NaN</td>\n      <td>NaN</td>\n      <td>NaN</td>\n      <td>NaN</td>\n    </tr>\n    <tr>\n      <th>2088254</th>\n      <td>5275190073194314</td>\n      <td>03/2023</td>\n      <td>974</td>\n      <td>Gari Motino</td>\n      <td>BANK OF AMERICA, NATIONAL ASSOCIATION</td>\n      <td>MASTERCARD</td>\n      <td>ENHANCED</td>\n      <td>DEBIT</td>\n      <td>None</td>\n      <td>GA</td>\n      <td>...</td>\n      <td>garysoriano7@hotmail.com</td>\n      <td>None</td>\n      <td>NaN</td>\n      <td>NaN</td>\n      <td>NaN</td>\n      <td>NaN</td>\n      <td>NaN</td>\n      <td>NaN</td>\n      <td>NaN</td>\n      <td>NaN</td>\n    </tr>\n    <tr>\n      <th>2088255</th>\n      <td>5428208597125733</td>\n      <td>06/2023</td>\n      <td>373</td>\n      <td>Flaio Reboucas</td>\n      <td>BANCO SANTANDER (BRASIL) S.A.</td>\n      <td>MASTERCARD</td>\n      <td>STANDARD</td>\n      <td>CREDIT</td>\n      <td>avenida salvador ribeiro siqueira sao cristovao</td>\n      <td>BR</td>\n      <td>...</td>\n      <td>None</td>\n      <td>None</td>\n      <td>NaN</td>\n      <td>NaN</td>\n      <td>NaN</td>\n      <td>NaN</td>\n      <td>NaN</td>\n      <td>NaN</td>\n      <td>NaN</td>\n      <td>NaN</td>\n    </tr>\n  </tbody>\n</table>\n<p>2088256 rows × 25 columns</p>\n</div>"
     },
     "execution_count": 3,
     "metadata": {},
     "output_type": "execute_result"
    }
   ],
   "source": [
    "df"
   ],
   "metadata": {
    "collapsed": false
   }
  },
  {
   "cell_type": "markdown",
   "source": [
    "### Algunos caracteres no se transcodificaron de forma correcta, se procede a buscarlos"
   ],
   "metadata": {
    "collapsed": false
   }
  },
  {
   "cell_type": "code",
   "execution_count": 4,
   "outputs": [],
   "source": [
    "with open('biden_cash_clean_enc.txt', 'r', encoding='utf-8') as file:\n",
    "    content = file.read()\n",
    "    unique_chars = set(content)\n",
    "    result = ''.join(unique_chars)"
   ],
   "metadata": {
    "collapsed": false
   }
  },
  {
   "cell_type": "code",
   "execution_count": 5,
   "outputs": [
    {
     "data": {
      "text/plain": "'•u™»\\x07ËâRFQ\"∂¬iwÁîMSìò-Ø\\x1et&‘ëﬂd3q—\\x0eÕY\\uf8ff≠NAÔ„EÌÃ,7⁄Ê0K\\\\T\\x01´€U#Ú¨rÀÏ°ŒWç∏Ñ∆+\\x115õü‰ƒ\\x03ñp9\\xa0n)\\x04ZGIä\\x0c@O\\x06bó%Ö¥≈æ{1÷B_◊œåß\\x1fXÇ‡\\x02|ÅPãÂö]ék\\x1bï(\\x154lj≤L§£c\\x0b\\x18V\\x14√a?s2\\'µÎgyﬁ}ÿÒ±eº\\x196/.v:í\\x16ù*ê¶<Ω`≥“πo>…CÆ‹HÍm\\x1a∞=É!Üèzx–ûfJ©\\x13Ÿà8h›¢^ \\n†ô∫ÄÈ\\t‚ªá’®”Dø∑ú[$~\\x08·'"
     },
     "execution_count": 5,
     "metadata": {},
     "output_type": "execute_result"
    }
   ],
   "source": [
    "result"
   ],
   "metadata": {
    "collapsed": false
   }
  },
  {
   "cell_type": "code",
   "execution_count": 6,
   "outputs": [],
   "source": [
    "import re\n",
    "valores = r'[^\\w\\s\\x01-\\x20\\x01-\\x20\\uf8ff\\\\/\\()\\,\\[\\]\\.\\-\\–\\']'\n",
    "\n",
    "result = re.findall(valores, result)\n",
    "result = ''.join(result)"
   ],
   "metadata": {
    "collapsed": false
   }
  },
  {
   "cell_type": "code",
   "execution_count": 7,
   "outputs": [
    {
     "data": {
      "text/plain": "'•™»\"∂¬&‘—≠„⁄´€#¨°∏∆+‰@%¥≈{÷◊‡|≤§£√?}±:*¶<`≥“>…‹∞=!©›¢^†∫‚’®”∑$~·'"
     },
     "execution_count": 7,
     "metadata": {},
     "output_type": "execute_result"
    }
   ],
   "source": [
    "result"
   ],
   "metadata": {
    "collapsed": false
   }
  },
  {
   "cell_type": "code",
   "execution_count": 8,
   "outputs": [],
   "source": [
    "regex = '[' + re.escape(result) + ']'"
   ],
   "metadata": {
    "collapsed": false
   }
  },
  {
   "cell_type": "markdown",
   "source": [
    "#### Tratamos de reemplazar algunos caracteres conocidos por su equivalente"
   ],
   "metadata": {
    "collapsed": false
   }
  },
  {
   "cell_type": "code",
   "execution_count": 15,
   "outputs": [],
   "source": [
    "reemplazo = {\n",
    "    '√©': 'é', '√°': 'á', '√¥': 'ô', '¬†': ' ',\n",
    "    '††': ' ', '√¢': 'â', '√£': 'ã', '©ú': 'Ü',\n",
    "    '©ñ': 'Ö', '©≠': 'í', 'Ё®': 'ó', '&eacute': 'é', '&aacute': 'á',\n",
    "    '&iacute': 'í', 'ú≠': 'í', '&oacute': 'ó', 'ú°': 'á', '&uacute': 'ú'\n",
    "}\n",
    "\n",
    "# columnas = [3]\n",
    "columnas = [3, 9, 10, 11, 12]\n",
    "\n",
    "for columna in columnas:\n",
    "    for c, v in reemplazo.items():\n",
    "        df[columna] = df[columna].str.replace(c, v)\n",
    "        # print(columna, c, v)\n",
    "# df[columnas] = df[columnas].replace(reemplazo, inplace=False)"
   ],
   "metadata": {
    "collapsed": false
   }
  },
  {
   "cell_type": "markdown",
   "source": [
    "#### Se obtiene el dataframe (matches) con los caracteres que no se transcodificaron de forma correcta y no se pudieron reemplazar"
   ],
   "metadata": {
    "collapsed": false
   }
  },
  {
   "cell_type": "code",
   "execution_count": 16,
   "outputs": [],
   "source": [
    "matches = df[df[3].str.contains(regex, na=False)]"
   ],
   "metadata": {
    "collapsed": false
   }
  },
  {
   "cell_type": "code",
   "execution_count": 17,
   "outputs": [
    {
     "data": {
      "text/plain": "                       0        1    2   \\\n313      5163830067877201  09/2023  941   \n858      4152313464569537  12/2023  786   \n1562     6062823397113520  06/2023  914   \n1742     4815820186346720  03/2023  790   \n1857     4603321050472318  06/2023  197   \n...                   ...      ...  ...   \n2087896  5579209123697515  06/2023  046   \n2087982  4908452706487004  11/2023  366   \n2088022  4222000358886327  11/2023  705   \n2088120  6375290337814116  12/2023  941   \n2088150  5321805667651494  12/2023  031   \n\n                                                       3   \\\n313                                       Rodrigo Garc√≠a   \n858                                Edgar Omar Acu&ntildea   \n1562     ROSEMEIRE MARIA DE SOUZA GARCIA - ME Rav√≠ Salon   \n1742                                       Varak=Artinian   \n1857                                      david rancaA¬±o   \n...                                                   ...   \n2087896                                Andres Mu&ntildeoz   \n2087982                                   ???e??? G??????   \n2088022                               Jo√É¬£o Paulo Gomes   \n2088120                                  Ad√É¬£o P S Neto   \n2088150                               Istv√É¬°n M√É¬°rkus   \n\n                                                  4           5           6   \\\n313                             BANCO SANTANDER S.A.  MASTERCARD    PLATINUM   \n858                              BBVA BANCOMER, S.A.        VISA     CLASSIC   \n1562                             ITAU UNIBANCO, S.A.   HIPERCARD     MAESTRO   \n1742                           BANK OF AMERICA, N.A.        VISA     CLASSIC   \n1857     BANCO BILBAO VIZCAYA ARGENTARIA S.A. (BBVA)        VISA     CLASSIC   \n...                                              ...         ...         ...   \n2087896                    SCOTIABANK INVERLAT, S.A.  MASTERCARD    STANDARD   \n2087982                           PIRAEUS BANK, S.A.        VISA     CLASSIC   \n2088022                          ITAU UNIBANCO, S.A.        VISA        GOLD   \n2088120                                         None     MAESTRO    PERSONAL   \n2088150                                 OTP BANK PLC  MASTERCARD  UNEMBOSSED   \n\n             7                                      8     9   ...     15  \\\n313       DEBIT                        Calle Orense 28  None  ...  Email   \n858       DEBIT                                   None  None  ...   None   \n1562      DEBIT                          Rua Maranh√£o    NO  ...   None   \n1742      DEBIT                                   None    NO  ...   None   \n1857      DEBIT  Carrer de Joaquim Ruyra, 10,Barcelona    BA  ...   None   \n...         ...                                    ...   ...  ...    ...   \n2087896   DEBIT                                   None    TX  ...   None   \n2087982  CREDIT                       ???a?? ?e???? 11    NO  ...   None   \n2088022  CREDIT        Rua Conde Maur√É¬≠cio de Nassau    NO  ...   None   \n2088120   DEBIT        12 de Outubro  1661  Cristo Rei    49  ...   None   \n2088150   DEBIT             Kast√É¬©lydomb utca 21 1/1    PL  ...   None   \n\n                  16   17   18   19   20   21   22   23  24  \n313             None  NaN  NaN  NaN  NaN  NaN  NaN  NaN NaN  \n858             None  NaN  NaN  NaN  NaN  NaN  NaN  NaN NaN  \n1562      1123760038  NaN  NaN  NaN  NaN  NaN  NaN  NaN NaN  \n1742            None  NaN  NaN  NaN  NaN  NaN  NaN  NaN NaN  \n1857            None  NaN  NaN  NaN  NaN  NaN  NaN  NaN NaN  \n...              ...  ...  ...  ...  ...  ...  ...  ...  ..  \n2087896         None  NaN  NaN  NaN  NaN  NaN  NaN  NaN NaN  \n2087982   6946689607  NaN  NaN  NaN  NaN  NaN  NaN  NaN NaN  \n2088022  65996808507  NaN  NaN  NaN  NaN  NaN  NaN  NaN NaN  \n2088120         None  NaN  NaN  NaN  NaN  NaN  NaN  NaN NaN  \n2088150         None  NaN  NaN  NaN  NaN  NaN  NaN  NaN NaN  \n\n[12126 rows x 25 columns]",
      "text/html": "<div>\n<style scoped>\n    .dataframe tbody tr th:only-of-type {\n        vertical-align: middle;\n    }\n\n    .dataframe tbody tr th {\n        vertical-align: top;\n    }\n\n    .dataframe thead th {\n        text-align: right;\n    }\n</style>\n<table border=\"1\" class=\"dataframe\">\n  <thead>\n    <tr style=\"text-align: right;\">\n      <th></th>\n      <th>0</th>\n      <th>1</th>\n      <th>2</th>\n      <th>3</th>\n      <th>4</th>\n      <th>5</th>\n      <th>6</th>\n      <th>7</th>\n      <th>8</th>\n      <th>9</th>\n      <th>...</th>\n      <th>15</th>\n      <th>16</th>\n      <th>17</th>\n      <th>18</th>\n      <th>19</th>\n      <th>20</th>\n      <th>21</th>\n      <th>22</th>\n      <th>23</th>\n      <th>24</th>\n    </tr>\n  </thead>\n  <tbody>\n    <tr>\n      <th>313</th>\n      <td>5163830067877201</td>\n      <td>09/2023</td>\n      <td>941</td>\n      <td>Rodrigo Garc√≠a</td>\n      <td>BANCO SANTANDER S.A.</td>\n      <td>MASTERCARD</td>\n      <td>PLATINUM</td>\n      <td>DEBIT</td>\n      <td>Calle Orense 28</td>\n      <td>None</td>\n      <td>...</td>\n      <td>Email</td>\n      <td>None</td>\n      <td>NaN</td>\n      <td>NaN</td>\n      <td>NaN</td>\n      <td>NaN</td>\n      <td>NaN</td>\n      <td>NaN</td>\n      <td>NaN</td>\n      <td>NaN</td>\n    </tr>\n    <tr>\n      <th>858</th>\n      <td>4152313464569537</td>\n      <td>12/2023</td>\n      <td>786</td>\n      <td>Edgar Omar Acu&amp;ntildea</td>\n      <td>BBVA BANCOMER, S.A.</td>\n      <td>VISA</td>\n      <td>CLASSIC</td>\n      <td>DEBIT</td>\n      <td>None</td>\n      <td>None</td>\n      <td>...</td>\n      <td>None</td>\n      <td>None</td>\n      <td>NaN</td>\n      <td>NaN</td>\n      <td>NaN</td>\n      <td>NaN</td>\n      <td>NaN</td>\n      <td>NaN</td>\n      <td>NaN</td>\n      <td>NaN</td>\n    </tr>\n    <tr>\n      <th>1562</th>\n      <td>6062823397113520</td>\n      <td>06/2023</td>\n      <td>914</td>\n      <td>ROSEMEIRE MARIA DE SOUZA GARCIA - ME Rav√≠ Salon</td>\n      <td>ITAU UNIBANCO, S.A.</td>\n      <td>HIPERCARD</td>\n      <td>MAESTRO</td>\n      <td>DEBIT</td>\n      <td>Rua Maranh√£o</td>\n      <td>NO</td>\n      <td>...</td>\n      <td>None</td>\n      <td>1123760038</td>\n      <td>NaN</td>\n      <td>NaN</td>\n      <td>NaN</td>\n      <td>NaN</td>\n      <td>NaN</td>\n      <td>NaN</td>\n      <td>NaN</td>\n      <td>NaN</td>\n    </tr>\n    <tr>\n      <th>1742</th>\n      <td>4815820186346720</td>\n      <td>03/2023</td>\n      <td>790</td>\n      <td>Varak=Artinian</td>\n      <td>BANK OF AMERICA, N.A.</td>\n      <td>VISA</td>\n      <td>CLASSIC</td>\n      <td>DEBIT</td>\n      <td>None</td>\n      <td>NO</td>\n      <td>...</td>\n      <td>None</td>\n      <td>None</td>\n      <td>NaN</td>\n      <td>NaN</td>\n      <td>NaN</td>\n      <td>NaN</td>\n      <td>NaN</td>\n      <td>NaN</td>\n      <td>NaN</td>\n      <td>NaN</td>\n    </tr>\n    <tr>\n      <th>1857</th>\n      <td>4603321050472318</td>\n      <td>06/2023</td>\n      <td>197</td>\n      <td>david rancaA¬±o</td>\n      <td>BANCO BILBAO VIZCAYA ARGENTARIA S.A. (BBVA)</td>\n      <td>VISA</td>\n      <td>CLASSIC</td>\n      <td>DEBIT</td>\n      <td>Carrer de Joaquim Ruyra, 10,Barcelona</td>\n      <td>BA</td>\n      <td>...</td>\n      <td>None</td>\n      <td>None</td>\n      <td>NaN</td>\n      <td>NaN</td>\n      <td>NaN</td>\n      <td>NaN</td>\n      <td>NaN</td>\n      <td>NaN</td>\n      <td>NaN</td>\n      <td>NaN</td>\n    </tr>\n    <tr>\n      <th>...</th>\n      <td>...</td>\n      <td>...</td>\n      <td>...</td>\n      <td>...</td>\n      <td>...</td>\n      <td>...</td>\n      <td>...</td>\n      <td>...</td>\n      <td>...</td>\n      <td>...</td>\n      <td>...</td>\n      <td>...</td>\n      <td>...</td>\n      <td>...</td>\n      <td>...</td>\n      <td>...</td>\n      <td>...</td>\n      <td>...</td>\n      <td>...</td>\n      <td>...</td>\n      <td>...</td>\n    </tr>\n    <tr>\n      <th>2087896</th>\n      <td>5579209123697515</td>\n      <td>06/2023</td>\n      <td>046</td>\n      <td>Andres Mu&amp;ntildeoz</td>\n      <td>SCOTIABANK INVERLAT, S.A.</td>\n      <td>MASTERCARD</td>\n      <td>STANDARD</td>\n      <td>DEBIT</td>\n      <td>None</td>\n      <td>TX</td>\n      <td>...</td>\n      <td>None</td>\n      <td>None</td>\n      <td>NaN</td>\n      <td>NaN</td>\n      <td>NaN</td>\n      <td>NaN</td>\n      <td>NaN</td>\n      <td>NaN</td>\n      <td>NaN</td>\n      <td>NaN</td>\n    </tr>\n    <tr>\n      <th>2087982</th>\n      <td>4908452706487004</td>\n      <td>11/2023</td>\n      <td>366</td>\n      <td>???e??? G??????</td>\n      <td>PIRAEUS BANK, S.A.</td>\n      <td>VISA</td>\n      <td>CLASSIC</td>\n      <td>CREDIT</td>\n      <td>???a?? ?e???? 11</td>\n      <td>NO</td>\n      <td>...</td>\n      <td>None</td>\n      <td>6946689607</td>\n      <td>NaN</td>\n      <td>NaN</td>\n      <td>NaN</td>\n      <td>NaN</td>\n      <td>NaN</td>\n      <td>NaN</td>\n      <td>NaN</td>\n      <td>NaN</td>\n    </tr>\n    <tr>\n      <th>2088022</th>\n      <td>4222000358886327</td>\n      <td>11/2023</td>\n      <td>705</td>\n      <td>Jo√É¬£o Paulo Gomes</td>\n      <td>ITAU UNIBANCO, S.A.</td>\n      <td>VISA</td>\n      <td>GOLD</td>\n      <td>CREDIT</td>\n      <td>Rua Conde Maur√É¬≠cio de Nassau</td>\n      <td>NO</td>\n      <td>...</td>\n      <td>None</td>\n      <td>65996808507</td>\n      <td>NaN</td>\n      <td>NaN</td>\n      <td>NaN</td>\n      <td>NaN</td>\n      <td>NaN</td>\n      <td>NaN</td>\n      <td>NaN</td>\n      <td>NaN</td>\n    </tr>\n    <tr>\n      <th>2088120</th>\n      <td>6375290337814116</td>\n      <td>12/2023</td>\n      <td>941</td>\n      <td>Ad√É¬£o P S Neto</td>\n      <td>None</td>\n      <td>MAESTRO</td>\n      <td>PERSONAL</td>\n      <td>DEBIT</td>\n      <td>12 de Outubro  1661  Cristo Rei</td>\n      <td>49</td>\n      <td>...</td>\n      <td>None</td>\n      <td>None</td>\n      <td>NaN</td>\n      <td>NaN</td>\n      <td>NaN</td>\n      <td>NaN</td>\n      <td>NaN</td>\n      <td>NaN</td>\n      <td>NaN</td>\n      <td>NaN</td>\n    </tr>\n    <tr>\n      <th>2088150</th>\n      <td>5321805667651494</td>\n      <td>12/2023</td>\n      <td>031</td>\n      <td>Istv√É¬°n M√É¬°rkus</td>\n      <td>OTP BANK PLC</td>\n      <td>MASTERCARD</td>\n      <td>UNEMBOSSED</td>\n      <td>DEBIT</td>\n      <td>Kast√É¬©lydomb utca 21 1/1</td>\n      <td>PL</td>\n      <td>...</td>\n      <td>None</td>\n      <td>None</td>\n      <td>NaN</td>\n      <td>NaN</td>\n      <td>NaN</td>\n      <td>NaN</td>\n      <td>NaN</td>\n      <td>NaN</td>\n      <td>NaN</td>\n      <td>NaN</td>\n    </tr>\n  </tbody>\n</table>\n<p>12126 rows × 25 columns</p>\n</div>"
     },
     "execution_count": 17,
     "metadata": {},
     "output_type": "execute_result"
    }
   ],
   "source": [
    "matches"
   ],
   "metadata": {
    "collapsed": false
   }
  },
  {
   "cell_type": "markdown",
   "source": [
    "## Eliminamos los elementos del dataframe matches del dataframe principal"
   ],
   "metadata": {
    "collapsed": false
   }
  },
  {
   "cell_type": "code",
   "execution_count": 18,
   "outputs": [
    {
     "data": {
      "text/plain": "                       0        1    2                3   \\\n0        6226230733425407  12/2023  695             None   \n1        6221550408456006  10/2023  399             None   \n2        4751290214696189  10/2023  769   Ilona Urbanska   \n3        4127525027387386  11/2023  360       Jaco Botha   \n4        4430450055540321    08/23  344              NaN   \n...                   ...      ...  ...              ...   \n2088251  6070936031539213  03/2023  432      NAAZNIZEROX   \n2088252  4160852007761085  10/2023  363  Mariah Martinez   \n2088253  5170239219091474  03/2023  480             None   \n2088254  5275190073194314  03/2023  974      Gari Motino   \n2088255  5428208597125733  06/2023  373   Flaio Reboucas   \n\n                                            4                5         6   \\\n0                          CHINA MINSHENG BANK  CHINA UNION PAY   CLASSIC   \n1                                  PINGAN BANK  CHINA UNION PAY   CLASSIC   \n2                NATIONAL WESTMINSTER BANK PLC             VISA   CLASSIC   \n3                         FIRSTRAND BANK, LTD.             VISA      GOLD   \n4                                          NaN              NaN       NaN   \n...                                        ...              ...       ...   \n2088251                   PUNJAB NATIONAL BANK            RUPAY   CLASSIC   \n2088252                         RABOBANK, N.A.             VISA   CLASSIC   \n2088253                                  BOKIS       MASTERCARD      GOLD   \n2088254  BANK OF AMERICA, NATIONAL ASSOCIATION       MASTERCARD  ENHANCED   \n2088255          BANCO SANTANDER (BRASIL) S.A.       MASTERCARD  STANDARD   \n\n             7                                                8     9   ...  \\\n0        CREDIT                                             None    NO  ...   \n1        CREDIT                                             None    NO  ...   \n2         DEBIT                                3 Waldgrave Place    NO  ...   \n3         DEBIT                                             None  None  ...   \n4           NaN                                              NaN   NaN  ...   \n...         ...                                              ...   ...  ...   \n2088251   DEBIT                                      NarodaINDIA  None  ...   \n2088252   DEBIT                                 1101 concord ave    CA  ...   \n2088253   DEBIT                                             None    NO  ...   \n2088254   DEBIT                                             None    GA  ...   \n2088255  CREDIT  avenida salvador ribeiro siqueira sao cristovao    BR  ...   \n\n                               15           16   17   18   19   20   21   22  \\\n0                            None         None  NaN  NaN  NaN  NaN  NaN  NaN   \n1                            None         None  NaN  NaN  NaN  NaN  NaN  NaN   \n2                            None  07305581769  NaN  NaN  NaN  NaN  NaN  NaN   \n3                            None         None  NaN  NaN  NaN  NaN  NaN  NaN   \n4                             NaN          NaN  NaN  NaN  NaN  NaN  NaN  NaN   \n...                           ...          ...  ...  ...  ...  ...  ...  ...   \n2088251                      None         None  NaN  NaN  NaN  NaN  NaN  NaN   \n2088252                      None   8053544851  NaN  NaN  NaN  NaN  NaN  NaN   \n2088253                      None         None  NaN  NaN  NaN  NaN  NaN  NaN   \n2088254  garysoriano7@hotmail.com         None  NaN  NaN  NaN  NaN  NaN  NaN   \n2088255                      None         None  NaN  NaN  NaN  NaN  NaN  NaN   \n\n          23  24  \n0        NaN NaN  \n1        NaN NaN  \n2        NaN NaN  \n3        NaN NaN  \n4        NaN NaN  \n...      ...  ..  \n2088251  NaN NaN  \n2088252  NaN NaN  \n2088253  NaN NaN  \n2088254  NaN NaN  \n2088255  NaN NaN  \n\n[2076130 rows x 25 columns]",
      "text/html": "<div>\n<style scoped>\n    .dataframe tbody tr th:only-of-type {\n        vertical-align: middle;\n    }\n\n    .dataframe tbody tr th {\n        vertical-align: top;\n    }\n\n    .dataframe thead th {\n        text-align: right;\n    }\n</style>\n<table border=\"1\" class=\"dataframe\">\n  <thead>\n    <tr style=\"text-align: right;\">\n      <th></th>\n      <th>0</th>\n      <th>1</th>\n      <th>2</th>\n      <th>3</th>\n      <th>4</th>\n      <th>5</th>\n      <th>6</th>\n      <th>7</th>\n      <th>8</th>\n      <th>9</th>\n      <th>...</th>\n      <th>15</th>\n      <th>16</th>\n      <th>17</th>\n      <th>18</th>\n      <th>19</th>\n      <th>20</th>\n      <th>21</th>\n      <th>22</th>\n      <th>23</th>\n      <th>24</th>\n    </tr>\n  </thead>\n  <tbody>\n    <tr>\n      <th>0</th>\n      <td>6226230733425407</td>\n      <td>12/2023</td>\n      <td>695</td>\n      <td>None</td>\n      <td>CHINA MINSHENG BANK</td>\n      <td>CHINA UNION PAY</td>\n      <td>CLASSIC</td>\n      <td>CREDIT</td>\n      <td>None</td>\n      <td>NO</td>\n      <td>...</td>\n      <td>None</td>\n      <td>None</td>\n      <td>NaN</td>\n      <td>NaN</td>\n      <td>NaN</td>\n      <td>NaN</td>\n      <td>NaN</td>\n      <td>NaN</td>\n      <td>NaN</td>\n      <td>NaN</td>\n    </tr>\n    <tr>\n      <th>1</th>\n      <td>6221550408456006</td>\n      <td>10/2023</td>\n      <td>399</td>\n      <td>None</td>\n      <td>PINGAN BANK</td>\n      <td>CHINA UNION PAY</td>\n      <td>CLASSIC</td>\n      <td>CREDIT</td>\n      <td>None</td>\n      <td>NO</td>\n      <td>...</td>\n      <td>None</td>\n      <td>None</td>\n      <td>NaN</td>\n      <td>NaN</td>\n      <td>NaN</td>\n      <td>NaN</td>\n      <td>NaN</td>\n      <td>NaN</td>\n      <td>NaN</td>\n      <td>NaN</td>\n    </tr>\n    <tr>\n      <th>2</th>\n      <td>4751290214696189</td>\n      <td>10/2023</td>\n      <td>769</td>\n      <td>Ilona Urbanska</td>\n      <td>NATIONAL WESTMINSTER BANK PLC</td>\n      <td>VISA</td>\n      <td>CLASSIC</td>\n      <td>DEBIT</td>\n      <td>3 Waldgrave Place</td>\n      <td>NO</td>\n      <td>...</td>\n      <td>None</td>\n      <td>07305581769</td>\n      <td>NaN</td>\n      <td>NaN</td>\n      <td>NaN</td>\n      <td>NaN</td>\n      <td>NaN</td>\n      <td>NaN</td>\n      <td>NaN</td>\n      <td>NaN</td>\n    </tr>\n    <tr>\n      <th>3</th>\n      <td>4127525027387386</td>\n      <td>11/2023</td>\n      <td>360</td>\n      <td>Jaco Botha</td>\n      <td>FIRSTRAND BANK, LTD.</td>\n      <td>VISA</td>\n      <td>GOLD</td>\n      <td>DEBIT</td>\n      <td>None</td>\n      <td>None</td>\n      <td>...</td>\n      <td>None</td>\n      <td>None</td>\n      <td>NaN</td>\n      <td>NaN</td>\n      <td>NaN</td>\n      <td>NaN</td>\n      <td>NaN</td>\n      <td>NaN</td>\n      <td>NaN</td>\n      <td>NaN</td>\n    </tr>\n    <tr>\n      <th>4</th>\n      <td>4430450055540321</td>\n      <td>08/23</td>\n      <td>344</td>\n      <td>NaN</td>\n      <td>NaN</td>\n      <td>NaN</td>\n      <td>NaN</td>\n      <td>NaN</td>\n      <td>NaN</td>\n      <td>NaN</td>\n      <td>...</td>\n      <td>NaN</td>\n      <td>NaN</td>\n      <td>NaN</td>\n      <td>NaN</td>\n      <td>NaN</td>\n      <td>NaN</td>\n      <td>NaN</td>\n      <td>NaN</td>\n      <td>NaN</td>\n      <td>NaN</td>\n    </tr>\n    <tr>\n      <th>...</th>\n      <td>...</td>\n      <td>...</td>\n      <td>...</td>\n      <td>...</td>\n      <td>...</td>\n      <td>...</td>\n      <td>...</td>\n      <td>...</td>\n      <td>...</td>\n      <td>...</td>\n      <td>...</td>\n      <td>...</td>\n      <td>...</td>\n      <td>...</td>\n      <td>...</td>\n      <td>...</td>\n      <td>...</td>\n      <td>...</td>\n      <td>...</td>\n      <td>...</td>\n      <td>...</td>\n    </tr>\n    <tr>\n      <th>2088251</th>\n      <td>6070936031539213</td>\n      <td>03/2023</td>\n      <td>432</td>\n      <td>NAAZNIZEROX</td>\n      <td>PUNJAB NATIONAL BANK</td>\n      <td>RUPAY</td>\n      <td>CLASSIC</td>\n      <td>DEBIT</td>\n      <td>NarodaINDIA</td>\n      <td>None</td>\n      <td>...</td>\n      <td>None</td>\n      <td>None</td>\n      <td>NaN</td>\n      <td>NaN</td>\n      <td>NaN</td>\n      <td>NaN</td>\n      <td>NaN</td>\n      <td>NaN</td>\n      <td>NaN</td>\n      <td>NaN</td>\n    </tr>\n    <tr>\n      <th>2088252</th>\n      <td>4160852007761085</td>\n      <td>10/2023</td>\n      <td>363</td>\n      <td>Mariah Martinez</td>\n      <td>RABOBANK, N.A.</td>\n      <td>VISA</td>\n      <td>CLASSIC</td>\n      <td>DEBIT</td>\n      <td>1101 concord ave</td>\n      <td>CA</td>\n      <td>...</td>\n      <td>None</td>\n      <td>8053544851</td>\n      <td>NaN</td>\n      <td>NaN</td>\n      <td>NaN</td>\n      <td>NaN</td>\n      <td>NaN</td>\n      <td>NaN</td>\n      <td>NaN</td>\n      <td>NaN</td>\n    </tr>\n    <tr>\n      <th>2088253</th>\n      <td>5170239219091474</td>\n      <td>03/2023</td>\n      <td>480</td>\n      <td>None</td>\n      <td>BOKIS</td>\n      <td>MASTERCARD</td>\n      <td>GOLD</td>\n      <td>DEBIT</td>\n      <td>None</td>\n      <td>NO</td>\n      <td>...</td>\n      <td>None</td>\n      <td>None</td>\n      <td>NaN</td>\n      <td>NaN</td>\n      <td>NaN</td>\n      <td>NaN</td>\n      <td>NaN</td>\n      <td>NaN</td>\n      <td>NaN</td>\n      <td>NaN</td>\n    </tr>\n    <tr>\n      <th>2088254</th>\n      <td>5275190073194314</td>\n      <td>03/2023</td>\n      <td>974</td>\n      <td>Gari Motino</td>\n      <td>BANK OF AMERICA, NATIONAL ASSOCIATION</td>\n      <td>MASTERCARD</td>\n      <td>ENHANCED</td>\n      <td>DEBIT</td>\n      <td>None</td>\n      <td>GA</td>\n      <td>...</td>\n      <td>garysoriano7@hotmail.com</td>\n      <td>None</td>\n      <td>NaN</td>\n      <td>NaN</td>\n      <td>NaN</td>\n      <td>NaN</td>\n      <td>NaN</td>\n      <td>NaN</td>\n      <td>NaN</td>\n      <td>NaN</td>\n    </tr>\n    <tr>\n      <th>2088255</th>\n      <td>5428208597125733</td>\n      <td>06/2023</td>\n      <td>373</td>\n      <td>Flaio Reboucas</td>\n      <td>BANCO SANTANDER (BRASIL) S.A.</td>\n      <td>MASTERCARD</td>\n      <td>STANDARD</td>\n      <td>CREDIT</td>\n      <td>avenida salvador ribeiro siqueira sao cristovao</td>\n      <td>BR</td>\n      <td>...</td>\n      <td>None</td>\n      <td>None</td>\n      <td>NaN</td>\n      <td>NaN</td>\n      <td>NaN</td>\n      <td>NaN</td>\n      <td>NaN</td>\n      <td>NaN</td>\n      <td>NaN</td>\n      <td>NaN</td>\n    </tr>\n  </tbody>\n</table>\n<p>2076130 rows × 25 columns</p>\n</div>"
     },
     "execution_count": 18,
     "metadata": {},
     "output_type": "execute_result"
    }
   ],
   "source": [
    "diff = pd.merge(df, matches, how='outer', indicator=True)\n",
    "diff = diff[diff['_merge'] == 'left_only'].drop('_merge', axis=1)\n",
    "\n",
    "diff"
   ],
   "metadata": {
    "collapsed": false
   }
  },
  {
   "cell_type": "markdown",
   "source": [
    "### Renombramos las columnas con el posible nombre del dato que contiene"
   ],
   "metadata": {
    "collapsed": false
   }
  },
  {
   "cell_type": "code",
   "execution_count": 19,
   "outputs": [],
   "source": [
    "diff.rename(columns={\n",
    "    0: 'numero_tarjeta',\n",
    "    1: 'vencimiento',\n",
    "    2: 'ccv',\n",
    "    3: 'nombre_titular',\n",
    "    4: 'nombre_banco',\n",
    "    5: 'tarjeta',\n",
    "    6: 'nivel_tarjeta',\n",
    "    7: 'tipo_tarjeta',\n",
    "    8: 'direction_titular',\n",
    "    9: 'abreviatura_cp',\n",
    "    10: 'ciudad_titular',\n",
    "    11: 'code_postal',\n",
    "    12: 'pais_titular',\n",
    "    15: 'correo_titular',\n",
    "    16: 'numero_titular'\n",
    "}, inplace=True)"
   ],
   "metadata": {
    "collapsed": false
   }
  },
  {
   "cell_type": "code",
   "execution_count": 20,
   "outputs": [
    {
     "data": {
      "text/plain": "           numero_tarjeta vencimiento  ccv   nombre_titular  \\\n0        6226230733425407     12/2023  695             None   \n1        6221550408456006     10/2023  399             None   \n2        4751290214696189     10/2023  769   Ilona Urbanska   \n3        4127525027387386     11/2023  360       Jaco Botha   \n4        4430450055540321       08/23  344              NaN   \n...                   ...         ...  ...              ...   \n2088251  6070936031539213     03/2023  432      NAAZNIZEROX   \n2088252  4160852007761085     10/2023  363  Mariah Martinez   \n2088253  5170239219091474     03/2023  480             None   \n2088254  5275190073194314     03/2023  974      Gari Motino   \n2088255  5428208597125733     06/2023  373   Flaio Reboucas   \n\n                                  nombre_banco          tarjeta nivel_tarjeta  \\\n0                          CHINA MINSHENG BANK  CHINA UNION PAY       CLASSIC   \n1                                  PINGAN BANK  CHINA UNION PAY       CLASSIC   \n2                NATIONAL WESTMINSTER BANK PLC             VISA       CLASSIC   \n3                         FIRSTRAND BANK, LTD.             VISA          GOLD   \n4                                          NaN              NaN           NaN   \n...                                        ...              ...           ...   \n2088251                   PUNJAB NATIONAL BANK            RUPAY       CLASSIC   \n2088252                         RABOBANK, N.A.             VISA       CLASSIC   \n2088253                                  BOKIS       MASTERCARD          GOLD   \n2088254  BANK OF AMERICA, NATIONAL ASSOCIATION       MASTERCARD      ENHANCED   \n2088255          BANCO SANTANDER (BRASIL) S.A.       MASTERCARD      STANDARD   \n\n        tipo_tarjeta                                direction_titular  \\\n0             CREDIT                                             None   \n1             CREDIT                                             None   \n2              DEBIT                                3 Waldgrave Place   \n3              DEBIT                                             None   \n4                NaN                                              NaN   \n...              ...                                              ...   \n2088251        DEBIT                                      NarodaINDIA   \n2088252        DEBIT                                 1101 concord ave   \n2088253        DEBIT                                             None   \n2088254        DEBIT                                             None   \n2088255       CREDIT  avenida salvador ribeiro siqueira sao cristovao   \n\n        abreviatura_cp  ...            correo_titular numero_titular   17  \\\n0                   NO  ...                      None           None  NaN   \n1                   NO  ...                      None           None  NaN   \n2                   NO  ...                      None    07305581769  NaN   \n3                 None  ...                      None           None  NaN   \n4                  NaN  ...                       NaN            NaN  NaN   \n...                ...  ...                       ...            ...  ...   \n2088251           None  ...                      None           None  NaN   \n2088252             CA  ...                      None     8053544851  NaN   \n2088253             NO  ...                      None           None  NaN   \n2088254             GA  ...  garysoriano7@hotmail.com           None  NaN   \n2088255             BR  ...                      None           None  NaN   \n\n          18   19   20   21   22   23  24  \n0        NaN  NaN  NaN  NaN  NaN  NaN NaN  \n1        NaN  NaN  NaN  NaN  NaN  NaN NaN  \n2        NaN  NaN  NaN  NaN  NaN  NaN NaN  \n3        NaN  NaN  NaN  NaN  NaN  NaN NaN  \n4        NaN  NaN  NaN  NaN  NaN  NaN NaN  \n...      ...  ...  ...  ...  ...  ...  ..  \n2088251  NaN  NaN  NaN  NaN  NaN  NaN NaN  \n2088252  NaN  NaN  NaN  NaN  NaN  NaN NaN  \n2088253  NaN  NaN  NaN  NaN  NaN  NaN NaN  \n2088254  NaN  NaN  NaN  NaN  NaN  NaN NaN  \n2088255  NaN  NaN  NaN  NaN  NaN  NaN NaN  \n\n[2076130 rows x 25 columns]",
      "text/html": "<div>\n<style scoped>\n    .dataframe tbody tr th:only-of-type {\n        vertical-align: middle;\n    }\n\n    .dataframe tbody tr th {\n        vertical-align: top;\n    }\n\n    .dataframe thead th {\n        text-align: right;\n    }\n</style>\n<table border=\"1\" class=\"dataframe\">\n  <thead>\n    <tr style=\"text-align: right;\">\n      <th></th>\n      <th>numero_tarjeta</th>\n      <th>vencimiento</th>\n      <th>ccv</th>\n      <th>nombre_titular</th>\n      <th>nombre_banco</th>\n      <th>tarjeta</th>\n      <th>nivel_tarjeta</th>\n      <th>tipo_tarjeta</th>\n      <th>direction_titular</th>\n      <th>abreviatura_cp</th>\n      <th>...</th>\n      <th>correo_titular</th>\n      <th>numero_titular</th>\n      <th>17</th>\n      <th>18</th>\n      <th>19</th>\n      <th>20</th>\n      <th>21</th>\n      <th>22</th>\n      <th>23</th>\n      <th>24</th>\n    </tr>\n  </thead>\n  <tbody>\n    <tr>\n      <th>0</th>\n      <td>6226230733425407</td>\n      <td>12/2023</td>\n      <td>695</td>\n      <td>None</td>\n      <td>CHINA MINSHENG BANK</td>\n      <td>CHINA UNION PAY</td>\n      <td>CLASSIC</td>\n      <td>CREDIT</td>\n      <td>None</td>\n      <td>NO</td>\n      <td>...</td>\n      <td>None</td>\n      <td>None</td>\n      <td>NaN</td>\n      <td>NaN</td>\n      <td>NaN</td>\n      <td>NaN</td>\n      <td>NaN</td>\n      <td>NaN</td>\n      <td>NaN</td>\n      <td>NaN</td>\n    </tr>\n    <tr>\n      <th>1</th>\n      <td>6221550408456006</td>\n      <td>10/2023</td>\n      <td>399</td>\n      <td>None</td>\n      <td>PINGAN BANK</td>\n      <td>CHINA UNION PAY</td>\n      <td>CLASSIC</td>\n      <td>CREDIT</td>\n      <td>None</td>\n      <td>NO</td>\n      <td>...</td>\n      <td>None</td>\n      <td>None</td>\n      <td>NaN</td>\n      <td>NaN</td>\n      <td>NaN</td>\n      <td>NaN</td>\n      <td>NaN</td>\n      <td>NaN</td>\n      <td>NaN</td>\n      <td>NaN</td>\n    </tr>\n    <tr>\n      <th>2</th>\n      <td>4751290214696189</td>\n      <td>10/2023</td>\n      <td>769</td>\n      <td>Ilona Urbanska</td>\n      <td>NATIONAL WESTMINSTER BANK PLC</td>\n      <td>VISA</td>\n      <td>CLASSIC</td>\n      <td>DEBIT</td>\n      <td>3 Waldgrave Place</td>\n      <td>NO</td>\n      <td>...</td>\n      <td>None</td>\n      <td>07305581769</td>\n      <td>NaN</td>\n      <td>NaN</td>\n      <td>NaN</td>\n      <td>NaN</td>\n      <td>NaN</td>\n      <td>NaN</td>\n      <td>NaN</td>\n      <td>NaN</td>\n    </tr>\n    <tr>\n      <th>3</th>\n      <td>4127525027387386</td>\n      <td>11/2023</td>\n      <td>360</td>\n      <td>Jaco Botha</td>\n      <td>FIRSTRAND BANK, LTD.</td>\n      <td>VISA</td>\n      <td>GOLD</td>\n      <td>DEBIT</td>\n      <td>None</td>\n      <td>None</td>\n      <td>...</td>\n      <td>None</td>\n      <td>None</td>\n      <td>NaN</td>\n      <td>NaN</td>\n      <td>NaN</td>\n      <td>NaN</td>\n      <td>NaN</td>\n      <td>NaN</td>\n      <td>NaN</td>\n      <td>NaN</td>\n    </tr>\n    <tr>\n      <th>4</th>\n      <td>4430450055540321</td>\n      <td>08/23</td>\n      <td>344</td>\n      <td>NaN</td>\n      <td>NaN</td>\n      <td>NaN</td>\n      <td>NaN</td>\n      <td>NaN</td>\n      <td>NaN</td>\n      <td>NaN</td>\n      <td>...</td>\n      <td>NaN</td>\n      <td>NaN</td>\n      <td>NaN</td>\n      <td>NaN</td>\n      <td>NaN</td>\n      <td>NaN</td>\n      <td>NaN</td>\n      <td>NaN</td>\n      <td>NaN</td>\n      <td>NaN</td>\n    </tr>\n    <tr>\n      <th>...</th>\n      <td>...</td>\n      <td>...</td>\n      <td>...</td>\n      <td>...</td>\n      <td>...</td>\n      <td>...</td>\n      <td>...</td>\n      <td>...</td>\n      <td>...</td>\n      <td>...</td>\n      <td>...</td>\n      <td>...</td>\n      <td>...</td>\n      <td>...</td>\n      <td>...</td>\n      <td>...</td>\n      <td>...</td>\n      <td>...</td>\n      <td>...</td>\n      <td>...</td>\n      <td>...</td>\n    </tr>\n    <tr>\n      <th>2088251</th>\n      <td>6070936031539213</td>\n      <td>03/2023</td>\n      <td>432</td>\n      <td>NAAZNIZEROX</td>\n      <td>PUNJAB NATIONAL BANK</td>\n      <td>RUPAY</td>\n      <td>CLASSIC</td>\n      <td>DEBIT</td>\n      <td>NarodaINDIA</td>\n      <td>None</td>\n      <td>...</td>\n      <td>None</td>\n      <td>None</td>\n      <td>NaN</td>\n      <td>NaN</td>\n      <td>NaN</td>\n      <td>NaN</td>\n      <td>NaN</td>\n      <td>NaN</td>\n      <td>NaN</td>\n      <td>NaN</td>\n    </tr>\n    <tr>\n      <th>2088252</th>\n      <td>4160852007761085</td>\n      <td>10/2023</td>\n      <td>363</td>\n      <td>Mariah Martinez</td>\n      <td>RABOBANK, N.A.</td>\n      <td>VISA</td>\n      <td>CLASSIC</td>\n      <td>DEBIT</td>\n      <td>1101 concord ave</td>\n      <td>CA</td>\n      <td>...</td>\n      <td>None</td>\n      <td>8053544851</td>\n      <td>NaN</td>\n      <td>NaN</td>\n      <td>NaN</td>\n      <td>NaN</td>\n      <td>NaN</td>\n      <td>NaN</td>\n      <td>NaN</td>\n      <td>NaN</td>\n    </tr>\n    <tr>\n      <th>2088253</th>\n      <td>5170239219091474</td>\n      <td>03/2023</td>\n      <td>480</td>\n      <td>None</td>\n      <td>BOKIS</td>\n      <td>MASTERCARD</td>\n      <td>GOLD</td>\n      <td>DEBIT</td>\n      <td>None</td>\n      <td>NO</td>\n      <td>...</td>\n      <td>None</td>\n      <td>None</td>\n      <td>NaN</td>\n      <td>NaN</td>\n      <td>NaN</td>\n      <td>NaN</td>\n      <td>NaN</td>\n      <td>NaN</td>\n      <td>NaN</td>\n      <td>NaN</td>\n    </tr>\n    <tr>\n      <th>2088254</th>\n      <td>5275190073194314</td>\n      <td>03/2023</td>\n      <td>974</td>\n      <td>Gari Motino</td>\n      <td>BANK OF AMERICA, NATIONAL ASSOCIATION</td>\n      <td>MASTERCARD</td>\n      <td>ENHANCED</td>\n      <td>DEBIT</td>\n      <td>None</td>\n      <td>GA</td>\n      <td>...</td>\n      <td>garysoriano7@hotmail.com</td>\n      <td>None</td>\n      <td>NaN</td>\n      <td>NaN</td>\n      <td>NaN</td>\n      <td>NaN</td>\n      <td>NaN</td>\n      <td>NaN</td>\n      <td>NaN</td>\n      <td>NaN</td>\n    </tr>\n    <tr>\n      <th>2088255</th>\n      <td>5428208597125733</td>\n      <td>06/2023</td>\n      <td>373</td>\n      <td>Flaio Reboucas</td>\n      <td>BANCO SANTANDER (BRASIL) S.A.</td>\n      <td>MASTERCARD</td>\n      <td>STANDARD</td>\n      <td>CREDIT</td>\n      <td>avenida salvador ribeiro siqueira sao cristovao</td>\n      <td>BR</td>\n      <td>...</td>\n      <td>None</td>\n      <td>None</td>\n      <td>NaN</td>\n      <td>NaN</td>\n      <td>NaN</td>\n      <td>NaN</td>\n      <td>NaN</td>\n      <td>NaN</td>\n      <td>NaN</td>\n      <td>NaN</td>\n    </tr>\n  </tbody>\n</table>\n<p>2076130 rows × 25 columns</p>\n</div>"
     },
     "execution_count": 20,
     "metadata": {},
     "output_type": "execute_result"
    }
   ],
   "source": [
    "diff"
   ],
   "metadata": {
    "collapsed": false
   }
  },
  {
   "cell_type": "markdown",
   "source": [
    "#### Para tener un mejor conocimiento de los datos, les agregue una descripcion:\n",
    "\n",
    "* numero_tarjeta: Número de identificación único asignado a la tarjeta de crédito o débito.\n",
    "* vencimiento: Fecha de expiración de la tarjeta de crédito o débito.\n",
    "* ccv: Código de seguridad de tres o cuatro dígitos ubicado en la parte trasera de la tarjeta de crédito o débito.\n",
    "* nombre_titular: Nombre completo del titular de la tarjeta de crédito o débito.\n",
    "* nombre_banco: Nombre del banco emisor de la tarjeta de crédito o débito.\n",
    "* tarjeta: Tipo de tarjeta de crédito o débito (por ejemplo, Visa, Mastercard, American Express, etc.).\n",
    "* nivel_tarjeta: Nivel de la tarjeta de crédito o débito (por ejemplo, clásica, oro, platino, etc.).\n",
    "* tipo_tarjeta: Tipo de tarjeta de crédito o débito (por ejemplo, personal, empresarial, estudiantil, etc.).\n",
    "* direction_titular: Dirección del titular de la tarjeta de crédito o débito.\n",
    "* abreviatura_cp: Abreviatura del código postal del titular de la tarjeta de crédito o débito.\n",
    "* ciudad_titular: Ciudad de residencia del titular de la tarjeta de crédito o débito.\n",
    "* code_postal: Código postal del titular de la tarjeta de crédito o débito.\n",
    "* pais_titular: País de residencia del titular de la tarjeta de crédito o débito.\n",
    "* correo_titular: Correo electrónico del titular de la tarjeta de crédito o débito.\n",
    "* numero_titular: Número de teléfono del titular de la tarjeta de crédito o débito."
   ],
   "metadata": {
    "collapsed": false
   }
  },
  {
   "cell_type": "code",
   "execution_count": null,
   "outputs": [],
   "source": [],
   "metadata": {
    "collapsed": false
   }
  }
 ],
 "metadata": {
  "kernelspec": {
   "display_name": "Python 3",
   "language": "python",
   "name": "python3"
  },
  "language_info": {
   "codemirror_mode": {
    "name": "ipython",
    "version": 2
   },
   "file_extension": ".py",
   "mimetype": "text/x-python",
   "name": "python",
   "nbconvert_exporter": "python",
   "pygments_lexer": "ipython2",
   "version": "2.7.6"
  }
 },
 "nbformat": 4,
 "nbformat_minor": 0
}
